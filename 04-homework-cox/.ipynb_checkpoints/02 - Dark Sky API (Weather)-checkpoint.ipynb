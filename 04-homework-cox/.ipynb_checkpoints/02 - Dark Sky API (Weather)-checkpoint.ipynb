{
 "cells": [
  {
   "cell_type": "markdown",
   "metadata": {},
   "source": [
    "# Dark Sky API (Weather)\n",
    "\n",
    "Answer the following questions using the [Dark Sky API](https://darksky.net/dev/). I've added three cells for each question but you're free to use more or less! Hold `Shift` and hit `Enter` to run a cell, and use the `+` on the top left to add a new cell to a notebook.\n",
    "\n",
    "If you spend some time reading the documentation your life will probably be a little bit easier!\n",
    "\n",
    "## 0) Import any libraries you might need\n",
    "\n",
    "- *Tip: We're going to be downloading things from the internet, so we probably need `requests`.*"
   ]
  },
  {
   "cell_type": "code",
   "execution_count": 1,
   "metadata": {},
   "outputs": [
    {
     "name": "stdout",
     "output_type": "stream",
     "text": [
      "{\"latitude\":37.8267,\"longitude\":-122.4233,\"timezone\":\"America/Los_Angeles\",\"currently\":{\"time\":1560200918,\"summary\":\"Partly Cloudy\",\"icon\":\"partly-cloudy-day\",\"nearestStormDistance\":447,\"nearestStormBearing\":130,\"precipIntensity\":0,\"precipProbability\":0,\"temperature\":85.68,\"apparentTemperature\":85.68,\"dewPoint\":47.25,\"humidity\":0.26,\"pressure\":1015.44,\"windSpeed\":1.37,\"windGust\":7.22,\"windBearing\":2,\"cloudCover\":0.53,\"uvIndex\":6,\"visibility\":5.04,\"ozone\":328.88},\"minutely\":{\"summary\":\"Partly cloudy for the hour.\",\"icon\":\"partly-cloudy-day\",\"data\":[{\"time\":1560200880,\"precipIntensity\":0,\"precipProbability\":0},{\"time\":1560200940,\"precipIntensity\":0,\"precipProbability\":0},{\"time\":1560201000,\"precipIntensity\":0,\"precipProbability\":0},{\"time\":1560201060,\"precipIntensity\":0,\"precipProbability\":0},{\"time\":1560201120,\"precipIntensity\":0,\"precipProbability\":0},{\"time\":1560201180,\"precipIntensity\":0,\"precipProbability\":0},{\"time\":1560201240,\"precipIntensity\":0,\"precipProbability\":0},{\"time\":1560201300,\"precipIntensity\":0,\"precipProbability\":0},{\"time\":1560201360,\"precipIntensity\":0,\"precipProbability\":0},{\"time\":1560201420,\"precipIntensity\":0,\"precipProbability\":0},{\"time\":1560201480,\"precipIntensity\":0,\"precipProbability\":0},{\"time\":1560201540,\"precipIntensity\":0,\"precipProbability\":0},{\"time\":1560201600,\"precipIntensity\":0,\"precipProbability\":0},{\"time\":1560201660,\"precipIntensity\":0,\"precipProbability\":0},{\"time\":1560201720,\"precipIntensity\":0,\"precipProbability\":0},{\"time\":1560201780,\"precipIntensity\":0,\"precipProbability\":0},{\"time\":1560201840,\"precipIntensity\":0,\"precipProbability\":0},{\"time\":1560201900,\"precipIntensity\":0,\"precipProbability\":0},{\"time\":1560201960,\"precipIntensity\":0,\"precipProbability\":0},{\"time\":1560202020,\"precipIntensity\":0,\"precipProbability\":0},{\"time\":1560202080,\"precipIntensity\":0,\"precipProbability\":0},{\"time\":1560202140,\"precipIntensity\":0,\"precipProbability\":0},{\"time\":1560202200,\"precipIntensity\":0,\"precipProbability\":0},{\"time\":1560202260,\"precipIntensity\":0,\"precipProbability\":0},{\"time\":1560202320,\"precipIntensity\":0,\"precipProbability\":0},{\"time\":1560202380,\"precipIntensity\":0,\"precipProbability\":0},{\"time\":1560202440,\"precipIntensity\":0,\"precipProbability\":0},{\"time\":1560202500,\"precipIntensity\":0,\"precipProbability\":0},{\"time\":1560202560,\"precipIntensity\":0,\"precipProbability\":0},{\"time\":1560202620,\"precipIntensity\":0,\"precipProbability\":0},{\"time\":1560202680,\"precipIntensity\":0,\"precipProbability\":0},{\"time\":1560202740,\"precipIntensity\":0,\"precipProbability\":0},{\"time\":1560202800,\"precipIntensity\":0,\"precipProbability\":0},{\"time\":1560202860,\"precipIntensity\":0,\"precipProbability\":0},{\"time\":1560202920,\"precipIntensity\":0,\"precipProbability\":0},{\"time\":1560202980,\"precipIntensity\":0,\"precipProbability\":0},{\"time\":1560203040,\"precipIntensity\":0,\"precipProbability\":0},{\"time\":1560203100,\"precipIntensity\":0,\"precipProbability\":0},{\"time\":1560203160,\"precipIntensity\":0,\"precipProbability\":0},{\"time\":1560203220,\"precipIntensity\":0,\"precipProbability\":0},{\"time\":1560203280,\"precipIntensity\":0,\"precipProbability\":0},{\"time\":1560203340,\"precipIntensity\":0,\"precipProbability\":0},{\"time\":1560203400,\"precipIntensity\":0,\"precipProbability\":0},{\"time\":1560203460,\"precipIntensity\":0,\"precipProbability\":0},{\"time\":1560203520,\"precipIntensity\":0,\"precipProbability\":0},{\"time\":1560203580,\"precipIntensity\":0,\"precipProbability\":0},{\"time\":1560203640,\"precipIntensity\":0,\"precipProbability\":0},{\"time\":1560203700,\"precipIntensity\":0,\"precipProbability\":0},{\"time\":1560203760,\"precipIntensity\":0,\"precipProbability\":0},{\"time\":1560203820,\"precipIntensity\":0,\"precipProbability\":0},{\"time\":1560203880,\"precipIntensity\":0,\"precipProbability\":0},{\"time\":1560203940,\"precipIntensity\":0,\"precipProbability\":0},{\"time\":1560204000,\"precipIntensity\":0,\"precipProbability\":0},{\"time\":1560204060,\"precipIntensity\":0,\"precipProbability\":0},{\"time\":1560204120,\"precipIntensity\":0,\"precipProbability\":0},{\"time\":1560204180,\"precipIntensity\":0,\"precipProbability\":0},{\"time\":1560204240,\"precipIntensity\":0,\"precipProbability\":0},{\"time\":1560204300,\"precipIntensity\":0,\"precipProbability\":0},{\"time\":1560204360,\"precipIntensity\":0,\"precipProbability\":0},{\"time\":1560204420,\"precipIntensity\":0,\"precipProbability\":0},{\"time\":1560204480,\"precipIntensity\":0,\"precipProbability\":0}]},\"hourly\":{\"summary\":\"Partly cloudy until tomorrow morning.\",\"icon\":\"partly-cloudy-night\",\"data\":[{\"time\":1560200400,\"summary\":\"Partly Cloudy\",\"icon\":\"partly-cloudy-day\",\"precipIntensity\":0,\"precipProbability\":0,\"temperature\":85.67,\"apparentTemperature\":85.67,\"dewPoint\":47.19,\"humidity\":0.26,\"pressure\":1015.48,\"windSpeed\":1.43,\"windGust\":7.32,\"windBearing\":11,\"cloudCover\":0.53,\"uvIndex\":7,\"visibility\":4.9,\"ozone\":328.98},{\"time\":1560204000,\"summary\":\"Partly Cloudy\",\"icon\":\"partly-cloudy-day\",\"precipIntensity\":0,\"precipProbability\":0,\"temperature\":85.73,\"apparentTemperature\":85.73,\"dewPoint\":47.6,\"humidity\":0.27,\"pressure\":1015.18,\"windSpeed\":1.84,\"windGust\":6.66,\"windBearing\":311,\"cloudCover\":0.53,\"uvIndex\":6,\"visibility\":5.82,\"ozone\":328.3},{\"time\":1560207600,\"summary\":\"Partly Cloudy\",\"icon\":\"partly-cloudy-day\",\"precipIntensity\":0,\"precipProbability\":0,\"temperature\":84.74,\"apparentTemperature\":84.74,\"dewPoint\":49.4,\"humidity\":0.3,\"pressure\":1014.88,\"windSpeed\":4.88,\"windGust\":7.18,\"windBearing\":267,\"cloudCover\":0.43,\"uvIndex\":5,\"visibility\":10,\"ozone\":327.6},{\"time\":1560211200,\"summary\":\"Partly Cloudy\",\"icon\":\"partly-cloudy-day\",\"precipIntensity\":0,\"precipProbability\":0,\"temperature\":82.81,\"apparentTemperature\":82.81,\"dewPoint\":51,\"humidity\":0.33,\"pressure\":1014.73,\"windSpeed\":5.98,\"windGust\":7.98,\"windBearing\":266,\"cloudCover\":0.39,\"uvIndex\":3,\"visibility\":10,\"ozone\":326.84},{\"time\":1560214800,\"summary\":\"Mostly Cloudy\",\"icon\":\"partly-cloudy-day\",\"precipIntensity\":0,\"precipProbability\":0,\"temperature\":80.74,\"apparentTemperature\":80.74,\"dewPoint\":52.44,\"humidity\":0.38,\"pressure\":1014.75,\"windSpeed\":5.32,\"windGust\":9.18,\"windBearing\":263,\"cloudCover\":0.6,\"uvIndex\":1,\"visibility\":10,\"ozone\":325.82},{\"time\":1560218400,\"summary\":\"Mostly Cloudy\",\"icon\":\"partly-cloudy-day\",\"precipIntensity\":0,\"precipProbability\":0,\"temperature\":78.71,\"apparentTemperature\":78.71,\"dewPoint\":53.19,\"humidity\":0.41,\"pressure\":1014.63,\"windSpeed\":5.76,\"windGust\":9.42,\"windBearing\":264,\"cloudCover\":0.75,\"uvIndex\":0,\"visibility\":10,\"ozone\":324.64},{\"time\":1560222000,\"summary\":\"Mostly Cloudy\",\"icon\":\"partly-cloudy-day\",\"precipIntensity\":0,\"precipProbability\":0,\"temperature\":76.73,\"apparentTemperature\":76.73,\"dewPoint\":53.47,\"humidity\":0.45,\"pressure\":1014.63,\"windSpeed\":6.08,\"windGust\":9.06,\"windBearing\":264,\"cloudCover\":0.84,\"uvIndex\":0,\"visibility\":10,\"ozone\":323.52},{\"time\":1560225600,\"summary\":\"Mostly Cloudy\",\"icon\":\"partly-cloudy-night\",\"precipIntensity\":0.0018,\"precipProbability\":0.01,\"precipType\":\"rain\",\"temperature\":73.96,\"apparentTemperature\":73.96,\"dewPoint\":53.64,\"humidity\":0.49,\"pressure\":1014.76,\"windSpeed\":5.24,\"windGust\":7.98,\"windBearing\":291,\"cloudCover\":0.82,\"uvIndex\":0,\"visibility\":10,\"ozone\":322.33},{\"time\":1560229200,\"summary\":\"Mostly Cloudy\",\"icon\":\"partly-cloudy-night\",\"precipIntensity\":0,\"precipProbability\":0,\"temperature\":71.61,\"apparentTemperature\":71.61,\"dewPoint\":53.19,\"humidity\":0.52,\"pressure\":1015.16,\"windSpeed\":4.44,\"windGust\":7.13,\"windBearing\":188,\"cloudCover\":0.76,\"uvIndex\":0,\"visibility\":10,\"ozone\":321.15},{\"time\":1560232800,\"summary\":\"Mostly Cloudy\",\"icon\":\"partly-cloudy-night\",\"precipIntensity\":0.0006,\"precipProbability\":0.01,\"precipType\":\"rain\",\"temperature\":69.69,\"apparentTemperature\":69.69,\"dewPoint\":52.73,\"humidity\":0.55,\"pressure\":1015.33,\"windSpeed\":3.94,\"windGust\":5.98,\"windBearing\":227,\"cloudCover\":0.72,\"uvIndex\":0,\"visibility\":10,\"ozone\":320.4},{\"time\":1560236400,\"summary\":\"Mostly Cloudy\",\"icon\":\"partly-cloudy-night\",\"precipIntensity\":0,\"precipProbability\":0,\"temperature\":68.53,\"apparentTemperature\":68.53,\"dewPoint\":52.54,\"humidity\":0.57,\"pressure\":1015.48,\"windSpeed\":4.05,\"windGust\":6.52,\"windBearing\":238,\"cloudCover\":0.75,\"uvIndex\":0,\"visibility\":10,\"ozone\":320.07},{\"time\":1560240000,\"summary\":\"Mostly Cloudy\",\"icon\":\"partly-cloudy-night\",\"precipIntensity\":0,\"precipProbability\":0,\"temperature\":67.38,\"apparentTemperature\":67.38,\"dewPoint\":52.43,\"humidity\":0.59,\"pressure\":1015.6,\"windSpeed\":4.15,\"windGust\":6.15,\"windBearing\":223,\"cloudCover\":0.79,\"uvIndex\":0,\"visibility\":10,\"ozone\":320.07},{\"time\":1560243600,\"summary\":\"Mostly Cloudy\",\"icon\":\"partly-cloudy-night\",\"precipIntensity\":0,\"precipProbability\":0,\"temperature\":66.3,\"apparentTemperature\":66.3,\"dewPoint\":52.26,\"humidity\":0.61,\"pressure\":1015.57,\"windSpeed\":4.79,\"windGust\":6.61,\"windBearing\":220,\"cloudCover\":0.63,\"uvIndex\":0,\"visibility\":10,\"ozone\":320.35},{\"time\":1560247200,\"summary\":\"Partly Cloudy\",\"icon\":\"partly-cloudy-night\",\"precipIntensity\":0,\"precipProbability\":0,\"temperature\":65.06,\"apparentTemperature\":65.06,\"dewPoint\":52.05,\"humidity\":0.63,\"pressure\":1015.6,\"windSpeed\":4.6,\"windGust\":6.52,\"windBearing\":223,\"cloudCover\":0.57,\"uvIndex\":0,\"visibility\":10,\"ozone\":320.91},{\"time\":1560250800,\"summary\":\"Mostly Cloudy\",\"icon\":\"partly-cloudy-night\",\"precipIntensity\":0,\"precipProbability\":0,\"temperature\":64.67,\"apparentTemperature\":64.67,\"dewPoint\":51.84,\"humidity\":0.63,\"pressure\":1015.31,\"windSpeed\":4.18,\"windGust\":5.21,\"windBearing\":219,\"cloudCover\":0.64,\"uvIndex\":0,\"visibility\":10,\"ozone\":321.68},{\"time\":1560254400,\"summary\":\"Partly Cloudy\",\"icon\":\"partly-cloudy-night\",\"precipIntensity\":0,\"precipProbability\":0,\"temperature\":63.32,\"apparentTemperature\":63.32,\"dewPoint\":51.77,\"humidity\":0.66,\"pressure\":1015.3,\"windSpeed\":3.87,\"windGust\":4.9,\"windBearing\":220,\"cloudCover\":0.57,\"uvIndex\":0,\"visibility\":10,\"ozone\":322.42},{\"time\":1560258000,\"summary\":\"Partly Cloudy\",\"icon\":\"partly-cloudy-day\",\"precipIntensity\":0,\"precipProbability\":0,\"temperature\":63.22,\"apparentTemperature\":63.22,\"dewPoint\":51.79,\"humidity\":0.66,\"pressure\":1015.39,\"windSpeed\":3.49,\"windGust\":4.44,\"windBearing\":216,\"cloudCover\":0.49,\"uvIndex\":0,\"visibility\":10,\"ozone\":322.82},{\"time\":1560261600,\"summary\":\"Partly Cloudy\",\"icon\":\"partly-cloudy-day\",\"precipIntensity\":0,\"precipProbability\":0,\"temperature\":63.89,\"apparentTemperature\":63.89,\"dewPoint\":51.87,\"humidity\":0.65,\"pressure\":1015.54,\"windSpeed\":2.96,\"windGust\":3.92,\"windBearing\":219,\"cloudCover\":0.41,\"uvIndex\":0,\"visibility\":10,\"ozone\":323.05},{\"time\":1560265200,\"summary\":\"Partly Cloudy\",\"icon\":\"partly-cloudy-day\",\"precipIntensity\":0,\"precipProbability\":0,\"temperature\":65.32,\"apparentTemperature\":65.32,\"dewPoint\":51.95,\"humidity\":0.62,\"pressure\":1015.66,\"windSpeed\":2.83,\"windGust\":3.74,\"windBearing\":218,\"cloudCover\":0.34,\"uvIndex\":1,\"visibility\":10,\"ozone\":323.34},{\"time\":1560268800,\"summary\":\"Partly Cloudy\",\"icon\":\"partly-cloudy-day\",\"precipIntensity\":0,\"precipProbability\":0,\"temperature\":67.78,\"apparentTemperature\":67.78,\"dewPoint\":52.05,\"humidity\":0.57,\"pressure\":1015.79,\"windSpeed\":3.09,\"windGust\":4.12,\"windBearing\":219,\"cloudCover\":0.31,\"uvIndex\":3,\"visibility\":10,\"ozone\":323.8},{\"time\":1560272400,\"summary\":\"Partly Cloudy\",\"icon\":\"partly-cloudy-day\",\"precipIntensity\":0,\"precipProbability\":0,\"temperature\":70.35,\"apparentTemperature\":70.35,\"dewPoint\":52.13,\"humidity\":0.52,\"pressure\":1015.88,\"windSpeed\":3.48,\"windGust\":4.86,\"windBearing\":233,\"cloudCover\":0.29,\"uvIndex\":5,\"visibility\":10,\"ozone\":324.33},{\"time\":1560276000,\"summary\":\"Partly Cloudy\",\"icon\":\"partly-cloudy-day\",\"precipIntensity\":0,\"precipProbability\":0,\"temperature\":72.36,\"apparentTemperature\":72.36,\"dewPoint\":52.12,\"humidity\":0.49,\"pressure\":1015.93,\"windSpeed\":4.22,\"windGust\":5.79,\"windBearing\":238,\"cloudCover\":0.25,\"uvIndex\":6,\"visibility\":10,\"ozone\":324.58},{\"time\":1560279600,\"summary\":\"Clear\",\"icon\":\"clear-day\",\"precipIntensity\":0,\"precipProbability\":0,\"temperature\":73.72,\"apparentTemperature\":73.72,\"dewPoint\":51.97,\"humidity\":0.47,\"pressure\":1015.86,\"windSpeed\":4.79,\"windGust\":7.04,\"windBearing\":247,\"cloudCover\":0.18,\"uvIndex\":8,\"visibility\":10,\"ozone\":324.49},{\"time\":1560283200,\"summary\":\"Clear\",\"icon\":\"clear-day\",\"precipIntensity\":0,\"precipProbability\":0,\"temperature\":75.18,\"apparentTemperature\":75.18,\"dewPoint\":51.72,\"humidity\":0.44,\"pressure\":1015.75,\"windSpeed\":6.48,\"windGust\":8.49,\"windBearing\":231,\"cloudCover\":0.09,\"uvIndex\":9,\"visibility\":10,\"ozone\":324.18},{\"time\":1560286800,\"summary\":\"Clear\",\"icon\":\"clear-day\",\"precipIntensity\":0,\"precipProbability\":0,\"temperature\":76.05,\"apparentTemperature\":76.05,\"dewPoint\":51.44,\"humidity\":0.42,\"pressure\":1015.57,\"windSpeed\":7.59,\"windGust\":9.74,\"windBearing\":242,\"cloudCover\":0.03,\"uvIndex\":9,\"visibility\":10,\"ozone\":324.2},{\"time\":1560290400,\"summary\":\"Clear\",\"icon\":\"clear-day\",\"precipIntensity\":0,\"precipProbability\":0,\"temperature\":75.74,\"apparentTemperature\":75.74,\"dewPoint\":51.09,\"humidity\":0.42,\"pressure\":1015.26,\"windSpeed\":8.19,\"windGust\":10.77,\"windBearing\":245,\"cloudCover\":0.03,\"uvIndex\":8,\"visibility\":10,\"ozone\":324.81},{\"time\":1560294000,\"summary\":\"Clear\",\"icon\":\"clear-day\",\"precipIntensity\":0,\"precipProbability\":0,\"temperature\":74.87,\"apparentTemperature\":74.87,\"dewPoint\":50.71,\"humidity\":0.43,\"pressure\":1014.87,\"windSpeed\":8.62,\"windGust\":11.6,\"windBearing\":245,\"cloudCover\":0.02,\"uvIndex\":6,\"visibility\":10,\"ozone\":325.84},{\"time\":1560297600,\"summary\":\"Clear\",\"icon\":\"clear-day\",\"precipIntensity\":0.0002,\"precipProbability\":0.01,\"precipType\":\"rain\",\"temperature\":73.12,\"apparentTemperature\":73.12,\"dewPoint\":50.44,\"humidity\":0.45,\"pressure\":1014.56,\"windSpeed\":8.7,\"windGust\":11.84,\"windBearing\":245,\"cloudCover\":0.03,\"uvIndex\":3,\"visibility\":10,\"ozone\":326.66},{\"time\":1560301200,\"summary\":\"Clear\",\"icon\":\"clear-day\",\"precipIntensity\":0.0002,\"precipProbability\":0.01,\"precipType\":\"rain\",\"temperature\":71.18,\"apparentTemperature\":71.18,\"dewPoint\":50.38,\"humidity\":0.48,\"pressure\":1014.32,\"windSpeed\":8.08,\"windGust\":11.23,\"windBearing\":243,\"cloudCover\":0.05,\"uvIndex\":2,\"visibility\":10,\"ozone\":327.05},{\"time\":1560304800,\"summary\":\"Clear\",\"icon\":\"clear-day\",\"precipIntensity\":0.0002,\"precipProbability\":0.01,\"precipType\":\"rain\",\"temperature\":69.05,\"apparentTemperature\":69.05,\"dewPoint\":50.45,\"humidity\":0.52,\"pressure\":1014.15,\"windSpeed\":7.05,\"windGust\":10.04,\"windBearing\":241,\"cloudCover\":0.1,\"uvIndex\":0,\"visibility\":10,\"ozone\":327.25},{\"time\":1560308400,\"summary\":\"Clear\",\"icon\":\"clear-day\",\"precipIntensity\":0.0002,\"precipProbability\":0.01,\"precipType\":\"rain\",\"temperature\":67.88,\"apparentTemperature\":67.88,\"dewPoint\":50.52,\"humidity\":0.54,\"pressure\":1014.12,\"windSpeed\":6.23,\"windGust\":8.89,\"windBearing\":237,\"cloudCover\":0.13,\"uvIndex\":0,\"visibility\":10,\"ozone\":327.52},{\"time\":1560312000,\"summary\":\"Partly Cloudy\",\"icon\":\"partly-cloudy-night\",\"precipIntensity\":0,\"precipProbability\":0,\"temperature\":66.81,\"apparentTemperature\":66.81,\"dewPoint\":50.54,\"humidity\":0.56,\"pressure\":1014.37,\"windSpeed\":5.86,\"windGust\":7.9,\"windBearing\":233,\"cloudCover\":0.26,\"uvIndex\":0,\"visibility\":10,\"ozone\":327.97},{\"time\":1560315600,\"summary\":\"Partly Cloudy\",\"icon\":\"partly-cloudy-night\",\"precipIntensity\":0,\"precipProbability\":0,\"temperature\":65.29,\"apparentTemperature\":65.29,\"dewPoint\":50.56,\"humidity\":0.59,\"pressure\":1014.78,\"windSpeed\":5.73,\"windGust\":6.94,\"windBearing\":227,\"cloudCover\":0.43,\"uvIndex\":0,\"visibility\":10,\"ozone\":328.44},{\"time\":1560319200,\"summary\":\"Partly Cloudy\",\"icon\":\"partly-cloudy-night\",\"precipIntensity\":0,\"precipProbability\":0,\"temperature\":64.18,\"apparentTemperature\":64.18,\"dewPoint\":50.61,\"humidity\":0.61,\"pressure\":1014.96,\"windSpeed\":5.68,\"windGust\":6.44,\"windBearing\":223,\"cloudCover\":0.58,\"uvIndex\":0,\"visibility\":10,\"ozone\":328.81},{\"time\":1560322800,\"summary\":\"Mostly Cloudy\",\"icon\":\"partly-cloudy-night\",\"precipIntensity\":0,\"precipProbability\":0,\"temperature\":63.31,\"apparentTemperature\":63.31,\"dewPoint\":50.7,\"humidity\":0.63,\"pressure\":1014.77,\"windSpeed\":5.69,\"windGust\":6.46,\"windBearing\":223,\"cloudCover\":0.65,\"uvIndex\":0,\"visibility\":10,\"ozone\":329.18},{\"time\":1560326400,\"summary\":\"Mostly Cloudy\",\"icon\":\"partly-cloudy-night\",\"precipIntensity\":0,\"precipProbability\":0,\"temperature\":62.5,\"apparentTemperature\":62.5,\"dewPoint\":50.81,\"humidity\":0.66,\"pressure\":1014.4,\"windSpeed\":5.78,\"windGust\":6.76,\"windBearing\":224,\"cloudCover\":0.74,\"uvIndex\":0,\"visibility\":10,\"ozone\":329.49},{\"time\":1560330000,\"summary\":\"Mostly Cloudy\",\"icon\":\"partly-cloudy-night\",\"precipIntensity\":0,\"precipProbability\":0,\"temperature\":61.72,\"apparentTemperature\":61.72,\"dewPoint\":50.92,\"humidity\":0.68,\"pressure\":1014.06,\"windSpeed\":5.87,\"windGust\":6.91,\"windBearing\":225,\"cloudCover\":0.79,\"uvIndex\":0,\"visibility\":10,\"ozone\":329.83},{\"time\":1560333600,\"summary\":\"Mostly Cloudy\",\"icon\":\"partly-cloudy-night\",\"precipIntensity\":0,\"precipProbability\":0,\"temperature\":60.77,\"apparentTemperature\":60.77,\"dewPoint\":50.97,\"humidity\":0.7,\"pressure\":1013.82,\"windSpeed\":5.9,\"windGust\":6.56,\"windBearing\":225,\"cloudCover\":0.75,\"uvIndex\":0,\"visibility\":10,\"ozone\":330.38},{\"time\":1560337200,\"summary\":\"Mostly Cloudy\",\"icon\":\"partly-cloudy-night\",\"precipIntensity\":0,\"precipProbability\":0,\"temperature\":59.68,\"apparentTemperature\":59.68,\"dewPoint\":51.03,\"humidity\":0.73,\"pressure\":1013.63,\"windSpeed\":5.95,\"windGust\":6.21,\"windBearing\":226,\"cloudCover\":0.65,\"uvIndex\":0,\"visibility\":10,\"ozone\":331.02},{\"time\":1560340800,\"summary\":\"Partly Cloudy\",\"icon\":\"partly-cloudy-night\",\"precipIntensity\":0.0003,\"precipProbability\":0.01,\"precipType\":\"rain\",\"temperature\":59.05,\"apparentTemperature\":59.05,\"dewPoint\":51.1,\"humidity\":0.75,\"pressure\":1013.52,\"windSpeed\":5.91,\"windGust\":6.02,\"windBearing\":225,\"cloudCover\":0.59,\"uvIndex\":0,\"visibility\":10,\"ozone\":331.56},{\"time\":1560344400,\"summary\":\"Mostly Cloudy\",\"icon\":\"partly-cloudy-day\",\"precipIntensity\":0,\"precipProbability\":0,\"temperature\":59.07,\"apparentTemperature\":59.07,\"dewPoint\":51.24,\"humidity\":0.75,\"pressure\":1013.57,\"windSpeed\":5.65,\"windGust\":5.8,\"windBearing\":222,\"cloudCover\":0.6,\"uvIndex\":0,\"visibility\":10,\"ozone\":332.19},{\"time\":1560348000,\"summary\":\"Mostly Cloudy\",\"icon\":\"partly-cloudy-day\",\"precipIntensity\":0,\"precipProbability\":0,\"temperature\":59.46,\"apparentTemperature\":59.46,\"dewPoint\":51.4,\"humidity\":0.75,\"pressure\":1013.7,\"windSpeed\":5.33,\"windGust\":5.63,\"windBearing\":219,\"cloudCover\":0.62,\"uvIndex\":0,\"visibility\":10,\"ozone\":332.71},{\"time\":1560351600,\"summary\":\"Mostly Cloudy\",\"icon\":\"partly-cloudy-day\",\"precipIntensity\":0,\"precipProbability\":0,\"temperature\":60.32,\"apparentTemperature\":60.32,\"dewPoint\":51.52,\"humidity\":0.73,\"pressure\":1013.85,\"windSpeed\":5.29,\"windGust\":5.86,\"windBearing\":217,\"cloudCover\":0.62,\"uvIndex\":1,\"visibility\":10,\"ozone\":332.49},{\"time\":1560355200,\"summary\":\"Mostly Cloudy\",\"icon\":\"partly-cloudy-day\",\"precipIntensity\":0,\"precipProbability\":0,\"temperature\":61.73,\"apparentTemperature\":61.73,\"dewPoint\":51.6,\"humidity\":0.69,\"pressure\":1014,\"windSpeed\":5.77,\"windGust\":6.4,\"windBearing\":220,\"cloudCover\":0.6,\"uvIndex\":2,\"visibility\":10,\"ozone\":330.91},{\"time\":1560358800,\"summary\":\"Partly Cloudy\",\"icon\":\"partly-cloudy-day\",\"precipIntensity\":0,\"precipProbability\":0,\"temperature\":63.57,\"apparentTemperature\":63.57,\"dewPoint\":51.68,\"humidity\":0.65,\"pressure\":1014.19,\"windSpeed\":6.54,\"windGust\":7.16,\"windBearing\":224,\"cloudCover\":0.55,\"uvIndex\":4,\"visibility\":10,\"ozone\":328.56},{\"time\":1560362400,\"summary\":\"Partly Cloudy\",\"icon\":\"partly-cloudy-day\",\"precipIntensity\":0,\"precipProbability\":0,\"temperature\":64.75,\"apparentTemperature\":64.75,\"dewPoint\":51.74,\"humidity\":0.63,\"pressure\":1014.25,\"windSpeed\":7.34,\"windGust\":8.04,\"windBearing\":228,\"cloudCover\":0.48,\"uvIndex\":6,\"visibility\":10,\"ozone\":326.88},{\"time\":1560366000,\"summary\":\"Partly Cloudy\",\"icon\":\"partly-cloudy-day\",\"precipIntensity\":0,\"precipProbability\":0,\"temperature\":66.06,\"apparentTemperature\":66.06,\"dewPoint\":51.8,\"humidity\":0.6,\"pressure\":1014.13,\"windSpeed\":8.17,\"windGust\":9.05,\"windBearing\":232,\"cloudCover\":0.39,\"uvIndex\":7,\"visibility\":10,\"ozone\":326.43},{\"time\":1560369600,\"summary\":\"Partly Cloudy\",\"icon\":\"partly-cloudy-day\",\"precipIntensity\":0,\"precipProbability\":0,\"temperature\":67.17,\"apparentTemperature\":67.17,\"dewPoint\":51.85,\"humidity\":0.58,\"pressure\":1013.91,\"windSpeed\":9.02,\"windGust\":10.18,\"windBearing\":236,\"cloudCover\":0.28,\"uvIndex\":8,\"visibility\":10,\"ozone\":326.63},{\"time\":1560373200,\"summary\":\"Clear\",\"icon\":\"clear-day\",\"precipIntensity\":0,\"precipProbability\":0,\"temperature\":67.65,\"apparentTemperature\":67.65,\"dewPoint\":51.89,\"humidity\":0.57,\"pressure\":1013.61,\"windSpeed\":9.7,\"windGust\":11.12,\"windBearing\":238,\"cloudCover\":0.2,\"uvIndex\":8,\"visibility\":10,\"ozone\":327.03}]},\"daily\":{\"summary\":\"No precipitation throughout the week, with high temperatures falling to 64°F on Thursday.\",\"icon\":\"clear-day\",\"data\":[{\"time\":1560150000,\"summary\":\"Mostly cloudy starting in the afternoon.\",\"icon\":\"partly-cloudy-night\",\"sunriseTime\":1560170920,\"sunsetTime\":1560223955,\"moonPhase\":0.27,\"precipIntensity\":0.0001,\"precipIntensityMax\":0.0018,\"precipIntensityMaxTime\":1560225600,\"precipProbability\":0.04,\"precipType\":\"rain\",\"temperatureHigh\":85.73,\"temperatureHighTime\":1560204000,\"temperatureLow\":63.22,\"temperatureLowTime\":1560258000,\"apparentTemperatureHigh\":85.73,\"apparentTemperatureHighTime\":1560204000,\"apparentTemperatureLow\":63.22,\"apparentTemperatureLowTime\":1560258000,\"dewPoint\":48.15,\"humidity\":0.36,\"pressure\":1015.21,\"windSpeed\":1.32,\"windGust\":9.42,\"windGustTime\":1560218400,\"windBearing\":338,\"cloudCover\":0.35,\"uvIndex\":8,\"uvIndexTime\":1560193200,\"visibility\":8.5,\"ozone\":328.58,\"temperatureMin\":69.69,\"temperatureMinTime\":1560232800,\"temperatureMax\":85.73,\"temperatureMaxTime\":1560204000,\"apparentTemperatureMin\":69.69,\"apparentTemperatureMinTime\":1560232800,\"apparentTemperatureMax\":85.73,\"apparentTemperatureMaxTime\":1560204000},{\"time\":1560236400,\"summary\":\"Partly cloudy in the morning.\",\"icon\":\"partly-cloudy-day\",\"sunriseTime\":1560257314,\"sunsetTime\":1560310384,\"moonPhase\":0.31,\"precipIntensity\":0.0003,\"precipIntensityMax\":0.0013,\"precipIntensityMaxTime\":1560236400,\"precipProbability\":0.06,\"precipType\":\"rain\",\"temperatureHigh\":76.05,\"temperatureHighTime\":1560286800,\"temperatureLow\":59.05,\"temperatureLowTime\":1560340800,\"apparentTemperatureHigh\":76.05,\"apparentTemperatureHighTime\":1560286800,\"apparentTemperatureLow\":59.05,\"apparentTemperatureLowTime\":1560340800,\"dewPoint\":51.47,\"humidity\":0.55,\"pressure\":1015.23,\"windSpeed\":5.27,\"windGust\":11.84,\"windGustTime\":1560297600,\"windBearing\":234,\"cloudCover\":0.33,\"uvIndex\":9,\"uvIndexTime\":1560283200,\"visibility\":10,\"ozone\":324.36,\"temperatureMin\":63.22,\"temperatureMinTime\":1560258000,\"temperatureMax\":76.05,\"temperatureMaxTime\":1560286800,\"apparentTemperatureMin\":63.22,\"apparentTemperatureMinTime\":1560258000,\"apparentTemperatureMax\":76.05,\"apparentTemperatureMaxTime\":1560286800},{\"time\":1560322800,\"summary\":\"Partly cloudy until afternoon.\",\"icon\":\"partly-cloudy-day\",\"sunriseTime\":1560343711,\"sunsetTime\":1560396811,\"moonPhase\":0.35,\"precipIntensity\":0.0001,\"precipIntensityMax\":0.0003,\"precipIntensityMaxTime\":1560340800,\"precipProbability\":0.08,\"precipType\":\"rain\",\"temperatureHigh\":67.65,\"temperatureHighTime\":1560373200,\"temperatureLow\":53.86,\"temperatureLowTime\":1560434400,\"apparentTemperatureHigh\":67.65,\"apparentTemperatureHighTime\":1560373200,\"apparentTemperatureLow\":53.86,\"apparentTemperatureLowTime\":1560434400,\"dewPoint\":51.51,\"humidity\":0.69,\"pressure\":1013.41,\"windSpeed\":7.45,\"windGust\":12.27,\"windGustTime\":1560384000,\"windBearing\":232,\"cloudCover\":0.43,\"uvIndex\":8,\"uvIndexTime\":1560369600,\"visibility\":10,\"ozone\":329.88,\"temperatureMin\":56.3,\"temperatureMinTime\":1560405600,\"temperatureMax\":67.65,\"temperatureMaxTime\":1560373200,\"apparentTemperatureMin\":56.3,\"apparentTemperatureMinTime\":1560405600,\"apparentTemperatureMax\":67.65,\"apparentTemperatureMaxTime\":1560373200},{\"time\":1560409200,\"summary\":\"Partly cloudy until afternoon.\",\"icon\":\"partly-cloudy-day\",\"sunriseTime\":1560430109,\"sunsetTime\":1560483236,\"moonPhase\":0.38,\"precipIntensity\":0.0005,\"precipIntensityMax\":0.0021,\"precipIntensityMaxTime\":1560427200,\"precipProbability\":0.07,\"precipType\":\"rain\",\"temperatureHigh\":64.35,\"temperatureHighTime\":1560463200,\"temperatureLow\":55.86,\"temperatureLowTime\":1560492000,\"apparentTemperatureHigh\":64.35,\"apparentTemperatureHighTime\":1560463200,\"apparentTemperatureLow\":55.86,\"apparentTemperatureLowTime\":1560492000,\"dewPoint\":52.16,\"humidity\":0.82,\"pressure\":1011.49,\"windSpeed\":8.2,\"windGust\":12.64,\"windGustTime\":1560470400,\"windBearing\":237,\"cloudCover\":0.41,\"uvIndex\":8,\"uvIndexTime\":1560456000,\"visibility\":9.93,\"ozone\":330.48,\"temperatureMin\":53.86,\"temperatureMinTime\":1560434400,\"temperatureMax\":64.35,\"temperatureMaxTime\":1560463200,\"apparentTemperatureMin\":53.86,\"apparentTemperatureMinTime\":1560434400,\"apparentTemperatureMax\":64.35,\"apparentTemperatureMaxTime\":1560463200},{\"time\":1560495600,\"summary\":\"Clear throughout the day.\",\"icon\":\"clear-day\",\"sunriseTime\":1560516509,\"sunsetTime\":1560569660,\"moonPhase\":0.42,\"precipIntensity\":0,\"precipIntensityMax\":0.0003,\"precipIntensityMaxTime\":1560564000,\"precipProbability\":0,\"temperatureHigh\":66.72,\"temperatureHighTime\":1560546000,\"temperatureLow\":54.16,\"temperatureLowTime\":1560596400,\"apparentTemperatureHigh\":66.72,\"apparentTemperatureHighTime\":1560546000,\"apparentTemperatureLow\":54.16,\"apparentTemperatureLowTime\":1560596400,\"dewPoint\":52.5,\"humidity\":0.77,\"pressure\":1010.03,\"windSpeed\":6.61,\"windGust\":12.77,\"windGustTime\":1560556800,\"windBearing\":233,\"cloudCover\":0,\"uvIndex\":10,\"uvIndexTime\":1560542400,\"visibility\":10,\"ozone\":329.34,\"temperatureMin\":55.66,\"temperatureMinTime\":1560578400,\"temperatureMax\":66.72,\"temperatureMaxTime\":1560546000,\"apparentTemperatureMin\":55.66,\"apparentTemperatureMinTime\":1560578400,\"apparentTemperatureMax\":66.72,\"apparentTemperatureMaxTime\":1560546000},{\"time\":1560582000,\"summary\":\"Mostly cloudy until afternoon.\",\"icon\":\"partly-cloudy-day\",\"sunriseTime\":1560602910,\"sunsetTime\":1560656083,\"moonPhase\":0.45,\"precipIntensity\":0.0001,\"precipIntensityMax\":0.0004,\"precipIntensityMaxTime\":1560610800,\"precipProbability\":0.04,\"precipType\":\"rain\",\"temperatureHigh\":66.11,\"temperatureHighTime\":1560636000,\"temperatureLow\":55.01,\"temperatureLowTime\":1560682800,\"apparentTemperatureHigh\":66.11,\"apparentTemperatureHighTime\":1560636000,\"apparentTemperatureLow\":55.01,\"apparentTemperatureLowTime\":1560682800,\"dewPoint\":51.81,\"humidity\":0.78,\"pressure\":1009.7,\"windSpeed\":6.48,\"windGust\":11.52,\"windGustTime\":1560643200,\"windBearing\":221,\"cloudCover\":0.28,\"uvIndex\":9,\"uvIndexTime\":1560632400,\"visibility\":10,\"ozone\":332.9,\"temperatureMin\":54.16,\"temperatureMinTime\":1560596400,\"temperatureMax\":66.11,\"temperatureMaxTime\":1560636000,\"apparentTemperatureMin\":54.16,\"apparentTemperatureMinTime\":1560596400,\"apparentTemperatureMax\":66.11,\"apparentTemperatureMaxTime\":1560636000},{\"time\":1560668400,\"summary\":\"Mostly cloudy until evening.\",\"icon\":\"partly-cloudy-day\",\"sunriseTime\":1560689314,\"sunsetTime\":1560742504,\"moonPhase\":0.48,\"precipIntensity\":0,\"precipIntensityMax\":0.0001,\"precipIntensityMaxTime\":1560686400,\"precipProbability\":0,\"temperatureHigh\":68.77,\"temperatureHighTime\":1560722400,\"temperatureLow\":56.91,\"temperatureLowTime\":1560769200,\"apparentTemperatureHigh\":68.77,\"apparentTemperatureHighTime\":1560722400,\"apparentTemperatureLow\":56.91,\"apparentTemperatureLowTime\":1560769200,\"dewPoint\":52.23,\"humidity\":0.73,\"pressure\":1008.77,\"windSpeed\":5.51,\"windGust\":11.89,\"windGustTime\":1560726000,\"windBearing\":223,\"cloudCover\":0.57,\"uvIndex\":4,\"uvIndexTime\":1560708000,\"visibility\":10,\"ozone\":334.99,\"temperatureMin\":55.01,\"temperatureMinTime\":1560682800,\"temperatureMax\":68.77,\"temperatureMaxTime\":1560722400,\"apparentTemperatureMin\":55.01,\"apparentTemperatureMinTime\":1560682800,\"apparentTemperatureMax\":68.77,\"apparentTemperatureMaxTime\":1560722400},{\"time\":1560754800,\"summary\":\"Mostly cloudy throughout the day.\",\"icon\":\"partly-cloudy-day\",\"sunriseTime\":1560775719,\"sunsetTime\":1560828923,\"moonPhase\":0.52,\"precipIntensity\":0,\"precipIntensityMax\":0.0002,\"precipIntensityMaxTime\":1560826800,\"precipProbability\":0,\"temperatureHigh\":69.53,\"temperatureHighTime\":1560808800,\"temperatureLow\":57.57,\"temperatureLowTime\":1560859200,\"apparentTemperatureHigh\":69.53,\"apparentTemperatureHighTime\":1560808800,\"apparentTemperatureLow\":57.57,\"apparentTemperatureLowTime\":1560859200,\"dewPoint\":52.24,\"humidity\":0.69,\"pressure\":1007.96,\"windSpeed\":5.19,\"windGust\":13.33,\"windGustTime\":1560808800,\"windBearing\":226,\"cloudCover\":0.84,\"uvIndex\":4,\"uvIndexTime\":1560794400,\"visibility\":10,\"ozone\":345.35,\"temperatureMin\":56.91,\"temperatureMinTime\":1560769200,\"temperatureMax\":69.53,\"temperatureMaxTime\":1560808800,\"apparentTemperatureMin\":56.91,\"apparentTemperatureMinTime\":1560769200,\"apparentTemperatureMax\":69.53,\"apparentTemperatureMaxTime\":1560808800}]},\"alerts\":[{\"title\":\"Excessive Heat Warning\",\"regions\":[\"East Bay Interior Valleys\",\"San Francisco Bay Shoreline\",\"Santa Clara Valley Including San Jose\"],\"severity\":\"warning\",\"time\":1560192240,\"expires\":1560225600,\"description\":\"...EXCESSIVE HEAT WARNING IN EFFECT UNTIL 9 PM PDT THIS EVENING... The National Weather Service in San Francisco has issued an Excessive Heat Warning, which is in effect until 9 PM PDT this evening. The Heat Advisory is no longer in effect. * TEMPERATURE...Record or near record heat with widespread high temperatures this afternoon from 95 to 105. * IMPACTS...The heat and humidity may cause heat stress during outdoor exertion or extended exposure.\\n\",\"uri\":\"https://alerts.weather.gov/cap/wwacapget.php?x=CA125CFE25D8D0.ExcessiveHeatWarning.125CFE32E700CA.MTRNPWMTR.5a2f9afc60ee92e7f1b8b61310d6c01d\"},{\"title\":\"Heat Advisory\",\"regions\":[\"North Bay Interior Valleys\",\"Northern Salinas Valley/Hollister Valley and Carmel Valley\",\"San Francisco\",\"Southern Salinas Valley/Arroyo Seco and Lake San Antonio\"],\"severity\":\"advisory\",\"time\":1560192240,\"expires\":1560225600,\"description\":\"...HEAT ADVISORY REMAINS IN EFFECT UNTIL 9 PM PDT THIS EVENING... * TEMPERATURE...Record or near record heat with widespread high temperatures this afternoon from 95 to 105. * IMPACTS...The heat and humidity may cause heat stress during outdoor exertion or extended exposure.\\n\",\"uri\":\"https://alerts.weather.gov/cap/wwacapget.php?x=CA125CFE25D8D0.HeatAdvisory.125CFE32E700CA.MTRNPWMTR.61cde5f1e374fb104a750e51344ba4e1\"}],\"flags\":{\"sources\":[\"nearest-precip\",\"nwspa\",\"cmc\",\"gfs\",\"hrrr\",\"icon\",\"isd\",\"madis\",\"nam\",\"sref\",\"darksky\"],\"nearest-station\":1.839,\"units\":\"us\"},\"offset\":-7}\n"
     ]
    }
   ],
   "source": [
    "import requests\n",
    "response = requests.get(\"https://api.darksky.net/forecast/7a0812f5b20dc415a54830dfac8aa170/37.8267,-122.4233\")\n",
    "print(response.text)\n",
    "\n",
    "\n"
   ]
  },
  {
   "cell_type": "code",
   "execution_count": null,
   "metadata": {},
   "outputs": [],
   "source": []
  },
  {
   "cell_type": "markdown",
   "metadata": {
    "collapsed": true
   },
   "source": [
    "## 1) Make a request from the Dark Sky API for where you were born (or lived, or want to visit!).\n",
    "\n",
    "- *Tip: The URL we used in class was for a place near San Francisco. What was the format of the endpoint that made this happen?*\n",
    "- *Tip: Save the URL as a separate variable, and be sure to not have `[` and `]` inside.*\n",
    "- *Tip: How is north vs. south and east vs. west latitude/longitude represented? Is it the normal North/South/East/West?*\n",
    "- *Tip: You know it's JSON, but Python doesn't! Make sure you aren't trying to deal with plain text.* \n",
    "- *Tip: Once you've imported the JSON into a variable, check the timezone's name to make sure it seems like it got the right part of the world!*"
   ]
  },
  {
   "cell_type": "code",
   "execution_count": 2,
   "metadata": {},
   "outputs": [
    {
     "name": "stdout",
     "output_type": "stream",
     "text": [
      "<class 'dict'>\n"
     ]
    }
   ],
   "source": [
    "import requests\n",
    "response = requests.get(\"https://api.darksky.net/forecast/7a0812f5b20dc415a54830dfac8aa170/40.9,-73.8\")\n",
    "NewRo = response.json()\n",
    "print(type(NewRo))\n"
   ]
  },
  {
   "cell_type": "code",
   "execution_count": 3,
   "metadata": {},
   "outputs": [
    {
     "name": "stdout",
     "output_type": "stream",
     "text": [
      "dict_keys(['latitude', 'longitude', 'timezone', 'currently', 'minutely', 'hourly', 'daily', 'flags', 'offset'])\n"
     ]
    }
   ],
   "source": [
    "print(NewRo.keys())"
   ]
  },
  {
   "cell_type": "code",
   "execution_count": null,
   "metadata": {
    "collapsed": true
   },
   "outputs": [],
   "source": []
  },
  {
   "cell_type": "markdown",
   "metadata": {},
   "source": [
    "## 2) What's the current wind speed? How much warmer does it feel than it actually is?\n",
    "\n",
    "- *Tip: You can do this by browsing through the dictionaries, but it might be easier to read the documentation*\n",
    "- *Tip: For the second half: it **is** one temperature, and it **feels** a different temperature. Calculate the difference.*"
   ]
  },
  {
   "cell_type": "code",
   "execution_count": 4,
   "metadata": {},
   "outputs": [
    {
     "name": "stdout",
     "output_type": "stream",
     "text": [
      "{'time': 1560200926, 'summary': 'Foggy', 'icon': 'fog', 'nearestStormDistance': 5, 'nearestStormBearing': 23, 'precipIntensity': 0, 'precipProbability': 0, 'temperature': 66.54, 'apparentTemperature': 67.43, 'dewPoint': 65.56, 'humidity': 0.97, 'pressure': 1014.36, 'windSpeed': 5.81, 'windGust': 7.5, 'windBearing': 111, 'cloudCover': 1, 'uvIndex': 2, 'visibility': 0, 'ozone': 319.56}\n"
     ]
    }
   ],
   "source": [
    "print(NewRo['currently'])\n"
   ]
  },
  {
   "cell_type": "code",
   "execution_count": 6,
   "metadata": {},
   "outputs": [
    {
     "name": "stdout",
     "output_type": "stream",
     "text": [
      "-0.8900000000000006\n"
     ]
    }
   ],
   "source": [
    "temperature=66.54\n",
    "apparentTemperature=67.43\n",
    "\n",
    "print(temperature-apparentTemperature)"
   ]
  },
  {
   "cell_type": "code",
   "execution_count": null,
   "metadata": {
    "collapsed": true
   },
   "outputs": [],
   "source": []
  },
  {
   "cell_type": "markdown",
   "metadata": {},
   "source": [
    "## 3) Today's forecast is the FIRST daily forecast. For the place you decided on above, how much of the moon is currently visible?\n",
    "\n",
    "- *Tip: This does **not** use the `currently` key.*\n",
    "- *Tip: It might be helpful to save the forecast into its own variable*"
   ]
  },
  {
   "cell_type": "code",
   "execution_count": 7,
   "metadata": {},
   "outputs": [
    {
     "data": {
      "text/plain": [
       "0.27"
      ]
     },
     "execution_count": 7,
     "metadata": {},
     "output_type": "execute_result"
    }
   ],
   "source": [
    "#print(NewRo['daily']['data'])\n",
    "\n",
    "daily_weather = NewRo['daily']['data']\n",
    "\n",
    "\n",
    "daily_weather[0]['moonPhase']"
   ]
  },
  {
   "cell_type": "code",
   "execution_count": null,
   "metadata": {
    "scrolled": false
   },
   "outputs": [],
   "source": []
  },
  {
   "cell_type": "code",
   "execution_count": null,
   "metadata": {
    "collapsed": true
   },
   "outputs": [],
   "source": []
  },
  {
   "cell_type": "markdown",
   "metadata": {},
   "source": [
    "## 4) What's the difference between the high and low temperatures for today?"
   ]
  },
  {
   "cell_type": "code",
   "execution_count": 8,
   "metadata": {},
   "outputs": [
    {
     "data": {
      "text/plain": [
       "[{'time': 1560139200,\n",
       "  'summary': 'Rain starting in the afternoon.',\n",
       "  'icon': 'rain',\n",
       "  'sunriseTime': 1560158673,\n",
       "  'sunsetTime': 1560212860,\n",
       "  'moonPhase': 0.27,\n",
       "  'precipIntensity': 0.0195,\n",
       "  'precipIntensityMax': 0.11,\n",
       "  'precipIntensityMaxTime': 1560196800,\n",
       "  'precipProbability': 1,\n",
       "  'precipType': 'rain',\n",
       "  'temperatureHigh': 67.14,\n",
       "  'temperatureHighTime': 1560207600,\n",
       "  'temperatureLow': 64.98,\n",
       "  'temperatureLowTime': 1560254400,\n",
       "  'apparentTemperatureHigh': 68.08,\n",
       "  'apparentTemperatureHighTime': 1560207600,\n",
       "  'apparentTemperatureLow': 65.22,\n",
       "  'apparentTemperatureLowTime': 1560254400,\n",
       "  'dewPoint': 58.92,\n",
       "  'humidity': 0.87,\n",
       "  'pressure': 1018.35,\n",
       "  'windSpeed': 5.75,\n",
       "  'windGust': 18.09,\n",
       "  'windGustTime': 1560222000,\n",
       "  'windBearing': 87,\n",
       "  'cloudCover': 0.82,\n",
       "  'uvIndex': 4,\n",
       "  'uvIndexTime': 1560178800,\n",
       "  'visibility': 6.01,\n",
       "  'ozone': 317.97,\n",
       "  'temperatureMin': 56.52,\n",
       "  'temperatureMinTime': 1560153600,\n",
       "  'temperatureMax': 67.28,\n",
       "  'temperatureMaxTime': 1560222000,\n",
       "  'apparentTemperatureMin': 56.52,\n",
       "  'apparentTemperatureMinTime': 1560153600,\n",
       "  'apparentTemperatureMax': 68.22,\n",
       "  'apparentTemperatureMaxTime': 1560222000},\n",
       " {'time': 1560225600,\n",
       "  'summary': 'Rain in the morning.',\n",
       "  'icon': 'rain',\n",
       "  'sunriseTime': 1560245065,\n",
       "  'sunsetTime': 1560299291,\n",
       "  'moonPhase': 0.3,\n",
       "  'precipIntensity': 0.0194,\n",
       "  'precipIntensityMax': 0.0774,\n",
       "  'precipIntensityMaxTime': 1560236400,\n",
       "  'precipProbability': 0.95,\n",
       "  'precipType': 'rain',\n",
       "  'temperatureHigh': 79.21,\n",
       "  'temperatureHighTime': 1560283200,\n",
       "  'temperatureLow': 58.44,\n",
       "  'temperatureLowTime': 1560330000,\n",
       "  'apparentTemperatureHigh': 79.21,\n",
       "  'apparentTemperatureHighTime': 1560283200,\n",
       "  'apparentTemperatureLow': 58.44,\n",
       "  'apparentTemperatureLowTime': 1560330000,\n",
       "  'dewPoint': 55.85,\n",
       "  'humidity': 0.65,\n",
       "  'pressure': 1012.02,\n",
       "  'windSpeed': 7.39,\n",
       "  'windGust': 29.67,\n",
       "  'windGustTime': 1560258000,\n",
       "  'windBearing': 318,\n",
       "  'cloudCover': 0.6,\n",
       "  'uvIndex': 6,\n",
       "  'uvIndexTime': 1560276000,\n",
       "  'visibility': 7.06,\n",
       "  'ozone': 329.18,\n",
       "  'temperatureMin': 64.98,\n",
       "  'temperatureMinTime': 1560254400,\n",
       "  'temperatureMax': 79.21,\n",
       "  'temperatureMaxTime': 1560283200,\n",
       "  'apparentTemperatureMin': 65.22,\n",
       "  'apparentTemperatureMinTime': 1560254400,\n",
       "  'apparentTemperatureMax': 79.21,\n",
       "  'apparentTemperatureMaxTime': 1560283200},\n",
       " {'time': 1560312000,\n",
       "  'summary': 'Mostly cloudy starting in the afternoon.',\n",
       "  'icon': 'partly-cloudy-night',\n",
       "  'sunriseTime': 1560331459,\n",
       "  'sunsetTime': 1560385720,\n",
       "  'moonPhase': 0.34,\n",
       "  'precipIntensity': 0,\n",
       "  'precipIntensityMax': 0,\n",
       "  'precipProbability': 0,\n",
       "  'temperatureHigh': 77.01,\n",
       "  'temperatureHighTime': 1560362400,\n",
       "  'temperatureLow': 62.2,\n",
       "  'temperatureLowTime': 1560427200,\n",
       "  'apparentTemperatureHigh': 77.01,\n",
       "  'apparentTemperatureHighTime': 1560362400,\n",
       "  'apparentTemperatureLow': 62.2,\n",
       "  'apparentTemperatureLowTime': 1560427200,\n",
       "  'dewPoint': 44.83,\n",
       "  'humidity': 0.45,\n",
       "  'pressure': 1020.5,\n",
       "  'windSpeed': 1.93,\n",
       "  'windGust': 18.94,\n",
       "  'windGustTime': 1560312000,\n",
       "  'windBearing': 146,\n",
       "  'cloudCover': 0.31,\n",
       "  'uvIndex': 8,\n",
       "  'uvIndexTime': 1560355200,\n",
       "  'visibility': 10,\n",
       "  'ozone': 335.51,\n",
       "  'temperatureMin': 58.44,\n",
       "  'temperatureMinTime': 1560330000,\n",
       "  'temperatureMax': 77.01,\n",
       "  'temperatureMaxTime': 1560362400,\n",
       "  'apparentTemperatureMin': 58.44,\n",
       "  'apparentTemperatureMinTime': 1560330000,\n",
       "  'apparentTemperatureMax': 77.01,\n",
       "  'apparentTemperatureMaxTime': 1560362400},\n",
       " {'time': 1560398400,\n",
       "  'summary': 'Rain and breezy until afternoon.',\n",
       "  'icon': 'rain',\n",
       "  'sunriseTime': 1560417855,\n",
       "  'sunsetTime': 1560472148,\n",
       "  'moonPhase': 0.38,\n",
       "  'precipIntensity': 0.0343,\n",
       "  'precipIntensityMax': 0.1444,\n",
       "  'precipIntensityMaxTime': 1560438000,\n",
       "  'precipProbability': 0.96,\n",
       "  'precipType': 'rain',\n",
       "  'temperatureHigh': 70.67,\n",
       "  'temperatureHighTime': 1560466800,\n",
       "  'temperatureLow': 59.05,\n",
       "  'temperatureLowTime': 1560502800,\n",
       "  'apparentTemperatureHigh': 70.74,\n",
       "  'apparentTemperatureHighTime': 1560466800,\n",
       "  'apparentTemperatureLow': 59.05,\n",
       "  'apparentTemperatureLowTime': 1560502800,\n",
       "  'dewPoint': 57.12,\n",
       "  'humidity': 0.77,\n",
       "  'pressure': 1009.91,\n",
       "  'windSpeed': 7.63,\n",
       "  'windGust': 33,\n",
       "  'windGustTime': 1560438000,\n",
       "  'windBearing': 104,\n",
       "  'cloudCover': 0.89,\n",
       "  'uvIndex': 4,\n",
       "  'uvIndexTime': 1560438000,\n",
       "  'visibility': 8.06,\n",
       "  'ozone': 341.18,\n",
       "  'temperatureMin': 59.95,\n",
       "  'temperatureMinTime': 1560441600,\n",
       "  'temperatureMax': 70.67,\n",
       "  'temperatureMaxTime': 1560466800,\n",
       "  'apparentTemperatureMin': 59.95,\n",
       "  'apparentTemperatureMinTime': 1560441600,\n",
       "  'apparentTemperatureMax': 70.74,\n",
       "  'apparentTemperatureMaxTime': 1560466800},\n",
       " {'time': 1560484800,\n",
       "  'summary': 'Breezy until evening and mostly cloudy starting in the afternoon.',\n",
       "  'icon': 'wind',\n",
       "  'sunriseTime': 1560504253,\n",
       "  'sunsetTime': 1560558573,\n",
       "  'moonPhase': 0.41,\n",
       "  'precipIntensity': 0.0001,\n",
       "  'precipIntensityMax': 0.0003,\n",
       "  'precipIntensityMaxTime': 1560564000,\n",
       "  'precipProbability': 0.01,\n",
       "  'precipType': 'rain',\n",
       "  'temperatureHigh': 72.82,\n",
       "  'temperatureHighTime': 1560542400,\n",
       "  'temperatureLow': 62.97,\n",
       "  'temperatureLowTime': 1560589200,\n",
       "  'apparentTemperatureHigh': 72.82,\n",
       "  'apparentTemperatureHighTime': 1560542400,\n",
       "  'apparentTemperatureLow': 62.97,\n",
       "  'apparentTemperatureLowTime': 1560589200,\n",
       "  'dewPoint': 47.05,\n",
       "  'humidity': 0.51,\n",
       "  'pressure': 1010.44,\n",
       "  'windSpeed': 11.61,\n",
       "  'windGust': 30.43,\n",
       "  'windGustTime': 1560524400,\n",
       "  'windBearing': 259,\n",
       "  'cloudCover': 0.26,\n",
       "  'uvIndex': 7,\n",
       "  'uvIndexTime': 1560528000,\n",
       "  'visibility': 10,\n",
       "  'ozone': 386.86,\n",
       "  'temperatureMin': 59.05,\n",
       "  'temperatureMinTime': 1560502800,\n",
       "  'temperatureMax': 72.82,\n",
       "  'temperatureMaxTime': 1560542400,\n",
       "  'apparentTemperatureMin': 59.05,\n",
       "  'apparentTemperatureMinTime': 1560502800,\n",
       "  'apparentTemperatureMax': 72.82,\n",
       "  'apparentTemperatureMaxTime': 1560542400},\n",
       " {'time': 1560571200,\n",
       "  'summary': 'Mostly cloudy throughout the day.',\n",
       "  'icon': 'partly-cloudy-day',\n",
       "  'sunriseTime': 1560590653,\n",
       "  'sunsetTime': 1560644997,\n",
       "  'moonPhase': 0.45,\n",
       "  'precipIntensity': 0,\n",
       "  'precipIntensityMax': 0.0002,\n",
       "  'precipIntensityMaxTime': 1560571200,\n",
       "  'precipProbability': 0,\n",
       "  'temperatureHigh': 83.18,\n",
       "  'temperatureHighTime': 1560632400,\n",
       "  'temperatureLow': 68.49,\n",
       "  'temperatureLowTime': 1560672000,\n",
       "  'apparentTemperatureHigh': 83.18,\n",
       "  'apparentTemperatureHighTime': 1560632400,\n",
       "  'apparentTemperatureLow': 68.49,\n",
       "  'apparentTemperatureLowTime': 1560672000,\n",
       "  'dewPoint': 48.03,\n",
       "  'humidity': 0.41,\n",
       "  'pressure': 1016.11,\n",
       "  'windSpeed': 9.09,\n",
       "  'windGust': 23.79,\n",
       "  'windGustTime': 1560571200,\n",
       "  'windBearing': 251,\n",
       "  'cloudCover': 0.74,\n",
       "  'uvIndex': 8,\n",
       "  'uvIndexTime': 1560618000,\n",
       "  'visibility': 10,\n",
       "  'ozone': 344.85,\n",
       "  'temperatureMin': 62.97,\n",
       "  'temperatureMinTime': 1560589200,\n",
       "  'temperatureMax': 83.18,\n",
       "  'temperatureMaxTime': 1560632400,\n",
       "  'apparentTemperatureMin': 62.97,\n",
       "  'apparentTemperatureMinTime': 1560589200,\n",
       "  'apparentTemperatureMax': 83.18,\n",
       "  'apparentTemperatureMaxTime': 1560632400},\n",
       " {'time': 1560657600,\n",
       "  'summary': 'Mostly cloudy throughout the day.',\n",
       "  'icon': 'partly-cloudy-day',\n",
       "  'sunriseTime': 1560677055,\n",
       "  'sunsetTime': 1560731420,\n",
       "  'moonPhase': 0.48,\n",
       "  'precipIntensity': 0.0059,\n",
       "  'precipIntensityMax': 0.0223,\n",
       "  'precipIntensityMaxTime': 1560729600,\n",
       "  'precipProbability': 0.94,\n",
       "  'precipType': 'rain',\n",
       "  'temperatureHigh': 87.56,\n",
       "  'temperatureHighTime': 1560715200,\n",
       "  'temperatureLow': 69.42,\n",
       "  'temperatureLowTime': 1560765600,\n",
       "  'apparentTemperatureHigh': 88,\n",
       "  'apparentTemperatureHighTime': 1560715200,\n",
       "  'apparentTemperatureLow': 69.42,\n",
       "  'apparentTemperatureLowTime': 1560765600,\n",
       "  'dewPoint': 60.28,\n",
       "  'humidity': 0.55,\n",
       "  'pressure': 1011.74,\n",
       "  'windSpeed': 9.29,\n",
       "  'windGust': 28.99,\n",
       "  'windGustTime': 1560668400,\n",
       "  'windBearing': 234,\n",
       "  'cloudCover': 0.91,\n",
       "  'uvIndex': 6,\n",
       "  'uvIndexTime': 1560700800,\n",
       "  'visibility': 9.42,\n",
       "  'ozone': 319.54,\n",
       "  'temperatureMin': 68.49,\n",
       "  'temperatureMinTime': 1560672000,\n",
       "  'temperatureMax': 87.56,\n",
       "  'temperatureMaxTime': 1560715200,\n",
       "  'apparentTemperatureMin': 68.49,\n",
       "  'apparentTemperatureMinTime': 1560672000,\n",
       "  'apparentTemperatureMax': 88,\n",
       "  'apparentTemperatureMaxTime': 1560715200},\n",
       " {'time': 1560744000,\n",
       "  'summary': 'Overcast throughout the day.',\n",
       "  'icon': 'cloudy',\n",
       "  'sunriseTime': 1560763459,\n",
       "  'sunsetTime': 1560817840,\n",
       "  'moonPhase': 0.52,\n",
       "  'precipIntensity': 0.0019,\n",
       "  'precipIntensityMax': 0.0232,\n",
       "  'precipIntensityMaxTime': 1560826800,\n",
       "  'precipProbability': 0.33,\n",
       "  'precipType': 'rain',\n",
       "  'temperatureHigh': 77,\n",
       "  'temperatureHighTime': 1560798000,\n",
       "  'temperatureLow': 65.72,\n",
       "  'temperatureLowTime': 1560844800,\n",
       "  'apparentTemperatureHigh': 77,\n",
       "  'apparentTemperatureHighTime': 1560798000,\n",
       "  'apparentTemperatureLow': 65.92,\n",
       "  'apparentTemperatureLowTime': 1560844800,\n",
       "  'dewPoint': 59.19,\n",
       "  'humidity': 0.61,\n",
       "  'pressure': 1011.22,\n",
       "  'windSpeed': 7.62,\n",
       "  'windGust': 18.11,\n",
       "  'windGustTime': 1560754800,\n",
       "  'windBearing': 134,\n",
       "  'cloudCover': 1,\n",
       "  'uvIndex': 4,\n",
       "  'uvIndexTime': 1560783600,\n",
       "  'visibility': 10,\n",
       "  'ozone': 325.3,\n",
       "  'temperatureMin': 67.9,\n",
       "  'temperatureMinTime': 1560826800,\n",
       "  'temperatureMax': 77,\n",
       "  'temperatureMaxTime': 1560798000,\n",
       "  'apparentTemperatureMin': 68.18,\n",
       "  'apparentTemperatureMinTime': 1560826800,\n",
       "  'apparentTemperatureMax': 77.11,\n",
       "  'apparentTemperatureMaxTime': 1560744000}]"
      ]
     },
     "execution_count": 8,
     "metadata": {},
     "output_type": "execute_result"
    }
   ],
   "source": [
    "daily_weather"
   ]
  },
  {
   "cell_type": "code",
   "execution_count": 9,
   "metadata": {},
   "outputs": [
    {
     "data": {
      "text/plain": [
       "2.1599999999999966"
      ]
     },
     "execution_count": 9,
     "metadata": {},
     "output_type": "execute_result"
    }
   ],
   "source": [
    "daily_weather[0]['temperatureHigh'] - daily_weather[0]['temperatureLow']"
   ]
  },
  {
   "cell_type": "code",
   "execution_count": null,
   "metadata": {
    "collapsed": true
   },
   "outputs": [],
   "source": []
  },
  {
   "cell_type": "markdown",
   "metadata": {},
   "source": [
    "## 5) Go through the daily forecasts, printing out the next week's worth of predictions.\n",
    "\n",
    "I'd like to know the **high temperature** for each day, and whether it's **hot, warm, or cold** (based on what temperatures you think are hot, warm or cold).\n",
    "\n",
    "- *Tip: Is it returning F or C? You can change them by adding `?units=us` or `?units=si` onto the end of the URL.*\n",
    "- *Tip: You'll need to use an `if` statement to say whether it is hot, warm or cold.*"
   ]
  },
  {
   "cell_type": "code",
   "execution_count": 46,
   "metadata": {},
   "outputs": [
    {
     "name": "stdout",
     "output_type": "stream",
     "text": [
      "67.14\n",
      "It is warm\n",
      "79.21\n",
      "It is warm\n",
      "77.01\n",
      "It is warm\n",
      "70.67\n",
      "It is warm\n",
      "72.82\n",
      "It is warm\n",
      "83.18\n",
      "It is hot!\n",
      "87.56\n",
      "It is hot!\n",
      "77\n",
      "It is warm\n"
     ]
    }
   ],
   "source": [
    "for high_temps in daily_weather:\n",
    "    print (high_temps['temperatureHigh'])\n",
    "    if high_temps['temperatureHigh'] > 80:\n",
    "        print (\"It is hot!\")\n",
    "    elif high_temps['temperatureHigh'] >= 65:\n",
    "        print (\"It is warm\")\n",
    "    else: print (\"It is cold\")"
   ]
  },
  {
   "cell_type": "code",
   "execution_count": null,
   "metadata": {
    "collapsed": true
   },
   "outputs": [],
   "source": []
  },
  {
   "cell_type": "code",
   "execution_count": null,
   "metadata": {
    "collapsed": true
   },
   "outputs": [],
   "source": []
  },
  {
   "cell_type": "markdown",
   "metadata": {},
   "source": [
    "# 6) What will be the hottest day in the next week? What is the high temperature on that day?\n",
    "\n",
    "It's okay if your result looks like `1453363200`. If you want to be extra-fancy, though, format it as a **real date** - the weird number is called a **UNIX timestamp**, which might help in googling.\n",
    "\n",
    "- *Tip: It's okay to skip this if it seems too difficult!*"
   ]
  },
  {
   "cell_type": "code",
   "execution_count": 47,
   "metadata": {},
   "outputs": [
    {
     "name": "stdout",
     "output_type": "stream",
     "text": [
      "1560139200 67.14\n",
      "1560225600 79.21\n",
      "1560312000 77.01\n",
      "1560398400 70.67\n",
      "1560484800 72.82\n",
      "1560571200 83.18\n",
      "1560657600 87.56\n",
      "1560744000 77\n"
     ]
    }
   ],
   "source": [
    "for high_temps in daily_weather:\n",
    "    print (high_temps['time'],high_temps['temperatureHigh'])"
   ]
  },
  {
   "cell_type": "code",
   "execution_count": null,
   "metadata": {
    "collapsed": true
   },
   "outputs": [],
   "source": []
  },
  {
   "cell_type": "code",
   "execution_count": null,
   "metadata": {
    "collapsed": true
   },
   "outputs": [],
   "source": []
  },
  {
   "cell_type": "markdown",
   "metadata": {},
   "source": [
    "## 7) What's the weather looking like for the next 24+ hours in Miami, Florida?\n",
    "\n",
    "I'd like to know the temperature for every hour, and if it's going to have cloud cover of more than 50% say \"{temperature} and cloudy\" instead of just the temperature. \n",
    "\n",
    "\n",
    "- *Tip: Be sure to remember how latitude and longitude are done with positive and negative numbers*\n",
    "- *Tip: How do you represent \"50%\" for cloud cover?*"
   ]
  },
  {
   "cell_type": "code",
   "execution_count": 3,
   "metadata": {},
   "outputs": [
    {
     "name": "stdout",
     "output_type": "stream",
     "text": [
      "[{'time': 1560204000, 'summary': 'Humid and Partly Cloudy', 'icon': 'partly-cloudy-day', 'precipIntensity': 0, 'precipProbability': 0, 'temperature': 87.68, 'apparentTemperature': 95.03, 'dewPoint': 72.65, 'humidity': 0.61, 'pressure': 1015.75, 'windSpeed': 5.48, 'windGust': 8.02, 'windBearing': 170, 'cloudCover': 0.35, 'uvIndex': 2, 'visibility': 9.59, 'ozone': 288.87}, {'time': 1560207600, 'summary': 'Humid and Partly Cloudy', 'icon': 'partly-cloudy-day', 'precipIntensity': 0, 'precipProbability': 0, 'temperature': 86.47, 'apparentTemperature': 93.78, 'dewPoint': 73.01, 'humidity': 0.64, 'pressure': 1015.81, 'windSpeed': 5.09, 'windGust': 7.55, 'windBearing': 172, 'cloudCover': 0.33, 'uvIndex': 0, 'visibility': 9.45, 'ozone': 288.6}, {'time': 1560211200, 'summary': 'Humid and Partly Cloudy', 'icon': 'partly-cloudy-day', 'precipIntensity': 0, 'precipProbability': 0, 'temperature': 84.76, 'apparentTemperature': 91.83, 'dewPoint': 73.47, 'humidity': 0.69, 'pressure': 1015.81, 'windSpeed': 5.39, 'windGust': 7.4, 'windBearing': 184, 'cloudCover': 0.42, 'uvIndex': 0, 'visibility': 9.3, 'ozone': 288.54}, {'time': 1560214800, 'summary': 'Humid and Partly Cloudy', 'icon': 'partly-cloudy-night', 'precipIntensity': 0, 'precipProbability': 0, 'temperature': 83.69, 'apparentTemperature': 90.51, 'dewPoint': 73.79, 'humidity': 0.72, 'pressure': 1016.07, 'windSpeed': 5.66, 'windGust': 6.47, 'windBearing': 177, 'cloudCover': 0.54, 'uvIndex': 0, 'visibility': 10, 'ozone': 288.67}, {'time': 1560218400, 'summary': 'Humid and Partly Cloudy', 'icon': 'partly-cloudy-night', 'precipIntensity': 0, 'precipProbability': 0, 'temperature': 83.07, 'apparentTemperature': 89.86, 'dewPoint': 74.17, 'humidity': 0.75, 'pressure': 1016.33, 'windSpeed': 5.96, 'windGust': 8.1, 'windBearing': 166, 'cloudCover': 0.59, 'uvIndex': 0, 'visibility': 10, 'ozone': 289.04}, {'time': 1560222000, 'summary': 'Humid and Mostly Cloudy', 'icon': 'partly-cloudy-night', 'precipIntensity': 0.0015, 'precipProbability': 0.04, 'precipType': 'rain', 'temperature': 82.49, 'apparentTemperature': 88.99, 'dewPoint': 74.27, 'humidity': 0.76, 'pressure': 1016.44, 'windSpeed': 5.66, 'windGust': 8.22, 'windBearing': 171, 'cloudCover': 0.62, 'uvIndex': 0, 'visibility': 10, 'ozone': 289.36}, {'time': 1560225600, 'summary': 'Humid and Partly Cloudy', 'icon': 'partly-cloudy-night', 'precipIntensity': 0, 'precipProbability': 0, 'temperature': 81.9, 'apparentTemperature': 88.06, 'dewPoint': 74.34, 'humidity': 0.78, 'pressure': 1016.44, 'windSpeed': 5.37, 'windGust': 7.98, 'windBearing': 179, 'cloudCover': 0.49, 'uvIndex': 0, 'visibility': 10, 'ozone': 289.51}, {'time': 1560229200, 'summary': 'Humid and Partly Cloudy', 'icon': 'partly-cloudy-night', 'precipIntensity': 0.0018, 'precipProbability': 0.03, 'precipType': 'rain', 'temperature': 81.39, 'apparentTemperature': 87.24, 'dewPoint': 74.44, 'humidity': 0.8, 'pressure': 1016.46, 'windSpeed': 4.85, 'windGust': 7.25, 'windBearing': 195, 'cloudCover': 0.45, 'uvIndex': 0, 'visibility': 10, 'ozone': 289.8}, {'time': 1560232800, 'summary': 'Humid', 'icon': 'clear-night', 'precipIntensity': 0, 'precipProbability': 0, 'temperature': 81.05, 'apparentTemperature': 86.65, 'dewPoint': 74.46, 'humidity': 0.8, 'pressure': 1016.29, 'windSpeed': 4.84, 'windGust': 6.77, 'windBearing': 195, 'cloudCover': 0.18, 'uvIndex': 0, 'visibility': 10, 'ozone': 290.12}, {'time': 1560236400, 'summary': 'Humid', 'icon': 'clear-night', 'precipIntensity': 0, 'precipProbability': 0, 'temperature': 80.73, 'apparentTemperature': 86.02, 'dewPoint': 74.38, 'humidity': 0.81, 'pressure': 1016.11, 'windSpeed': 4.38, 'windGust': 6.11, 'windBearing': 204, 'cloudCover': 0.18, 'uvIndex': 0, 'visibility': 10, 'ozone': 290.78}, {'time': 1560240000, 'summary': 'Humid', 'icon': 'clear-night', 'precipIntensity': 0.0016, 'precipProbability': 0.03, 'precipType': 'rain', 'temperature': 80.41, 'apparentTemperature': 85.34, 'dewPoint': 74.18, 'humidity': 0.81, 'pressure': 1015.81, 'windSpeed': 4.34, 'windGust': 5.94, 'windBearing': 221, 'cloudCover': 0.22, 'uvIndex': 0, 'visibility': 10, 'ozone': 291.58}, {'time': 1560243600, 'summary': 'Humid and Partly Cloudy', 'icon': 'partly-cloudy-night', 'precipIntensity': 0.0016, 'precipProbability': 0.03, 'precipType': 'rain', 'temperature': 80.03, 'apparentTemperature': 84.57, 'dewPoint': 74.04, 'humidity': 0.82, 'pressure': 1015.64, 'windSpeed': 4.01, 'windGust': 5.74, 'windBearing': 223, 'cloudCover': 0.27, 'uvIndex': 0, 'visibility': 10, 'ozone': 292.35}, {'time': 1560247200, 'summary': 'Humid and Partly Cloudy', 'icon': 'partly-cloudy-night', 'precipIntensity': 0.0026, 'precipProbability': 0.03, 'precipType': 'rain', 'temperature': 80.26, 'apparentTemperature': 85.01, 'dewPoint': 74.07, 'humidity': 0.82, 'pressure': 1015.83, 'windSpeed': 3.6, 'windGust': 5.36, 'windBearing': 217, 'cloudCover': 0.38, 'uvIndex': 0, 'visibility': 10, 'ozone': 293.11}, {'time': 1560250800, 'summary': 'Humid and Partly Cloudy', 'icon': 'partly-cloudy-day', 'precipIntensity': 0.0023, 'precipProbability': 0.03, 'precipType': 'rain', 'temperature': 80.74, 'apparentTemperature': 85.95, 'dewPoint': 74.18, 'humidity': 0.81, 'pressure': 1016.2, 'windSpeed': 3.22, 'windGust': 4.64, 'windBearing': 203, 'cloudCover': 0.51, 'uvIndex': 0, 'visibility': 10, 'ozone': 293.95}, {'time': 1560254400, 'summary': 'Humid and Partly Cloudy', 'icon': 'partly-cloudy-day', 'precipIntensity': 0.0003, 'precipProbability': 0.03, 'precipType': 'rain', 'temperature': 82.12, 'apparentTemperature': 88.46, 'dewPoint': 74.39, 'humidity': 0.78, 'pressure': 1016.62, 'windSpeed': 2.87, 'windGust': 4.05, 'windBearing': 198, 'cloudCover': 0.58, 'uvIndex': 1, 'visibility': 10, 'ozone': 294.41}, {'time': 1560258000, 'summary': 'Humid and Mostly Cloudy', 'icon': 'partly-cloudy-day', 'precipIntensity': 0.0003, 'precipProbability': 0.02, 'precipType': 'rain', 'temperature': 84.58, 'apparentTemperature': 91.69, 'dewPoint': 73.63, 'humidity': 0.7, 'pressure': 1016.7, 'windSpeed': 3.32, 'windGust': 3.7, 'windBearing': 174, 'cloudCover': 0.79, 'uvIndex': 2, 'visibility': 10, 'ozone': 294.43}, {'time': 1560261600, 'summary': 'Humid and Mostly Cloudy', 'icon': 'partly-cloudy-day', 'precipIntensity': 0.0002, 'precipProbability': 0.01, 'precipType': 'rain', 'temperature': 87, 'apparentTemperature': 94.64, 'dewPoint': 73.19, 'humidity': 0.64, 'pressure': 1016.93, 'windSpeed': 4.3, 'windGust': 5.32, 'windBearing': 162, 'cloudCover': 0.67, 'uvIndex': 4, 'visibility': 10, 'ozone': 294.14}, {'time': 1560265200, 'summary': 'Humid and Partly Cloudy', 'icon': 'partly-cloudy-day', 'precipIntensity': 0, 'precipProbability': 0, 'temperature': 88.99, 'apparentTemperature': 96.94, 'dewPoint': 72.88, 'humidity': 0.59, 'pressure': 1017.01, 'windSpeed': 5.37, 'windGust': 6.69, 'windBearing': 152, 'cloudCover': 0.58, 'uvIndex': 6, 'visibility': 10, 'ozone': 293.94}, {'time': 1560268800, 'summary': 'Humid and Partly Cloudy', 'icon': 'partly-cloudy-day', 'precipIntensity': 0.0002, 'precipProbability': 0.01, 'precipType': 'rain', 'temperature': 89.99, 'apparentTemperature': 98.17, 'dewPoint': 72.83, 'humidity': 0.57, 'pressure': 1016.85, 'windSpeed': 6.6, 'windGust': 7.42, 'windBearing': 147, 'cloudCover': 0.57, 'uvIndex': 7, 'visibility': 10, 'ozone': 293.92}, {'time': 1560272400, 'summary': 'Humid and Mostly Cloudy', 'icon': 'partly-cloudy-day', 'precipIntensity': 0.0006, 'precipProbability': 0.02, 'precipType': 'rain', 'temperature': 91.25, 'apparentTemperature': 99.86, 'dewPoint': 72.9, 'humidity': 0.55, 'pressure': 1016.53, 'windSpeed': 7.96, 'windGust': 8.12, 'windBearing': 146, 'cloudCover': 0.6, 'uvIndex': 8, 'visibility': 10, 'ozone': 294}, {'time': 1560276000, 'summary': 'Humid and Mostly Cloudy', 'icon': 'partly-cloudy-day', 'precipIntensity': 0.0012, 'precipProbability': 0.01, 'precipType': 'rain', 'temperature': 91.8, 'apparentTemperature': 100.68, 'dewPoint': 73.01, 'humidity': 0.54, 'pressure': 1016.19, 'windSpeed': 9.09, 'windGust': 9.11, 'windBearing': 146, 'cloudCover': 0.61, 'uvIndex': 7, 'visibility': 10, 'ozone': 294.2}, {'time': 1560279600, 'summary': 'Humid and Mostly Cloudy', 'icon': 'partly-cloudy-day', 'precipIntensity': 0.0021, 'precipProbability': 0.02, 'precipType': 'rain', 'temperature': 92.17, 'apparentTemperature': 101.34, 'dewPoint': 73.18, 'humidity': 0.54, 'pressure': 1015.75, 'windSpeed': 9.97, 'windGust': 10.01, 'windBearing': 147, 'cloudCover': 0.62, 'uvIndex': 6, 'visibility': 10, 'ozone': 294.49}, {'time': 1560283200, 'summary': 'Humid and Mostly Cloudy', 'icon': 'partly-cloudy-day', 'precipIntensity': 0.0053, 'precipProbability': 0.05, 'precipType': 'rain', 'temperature': 91.5, 'apparentTemperature': 100.71, 'dewPoint': 73.39, 'humidity': 0.56, 'pressure': 1015.23, 'windSpeed': 10.62, 'windGust': 10.72, 'windBearing': 149, 'cloudCover': 0.63, 'uvIndex': 5, 'visibility': 10, 'ozone': 294.97}, {'time': 1560286800, 'summary': 'Humid and Mostly Cloudy', 'icon': 'partly-cloudy-day', 'precipIntensity': 0.0093, 'precipProbability': 0.06, 'precipType': 'rain', 'temperature': 90.27, 'apparentTemperature': 99.32, 'dewPoint': 73.58, 'humidity': 0.58, 'pressure': 1014.88, 'windSpeed': 10.83, 'windGust': 11.1, 'windBearing': 152, 'cloudCover': 0.62, 'uvIndex': 3, 'visibility': 10, 'ozone': 295.84}, {'time': 1560290400, 'summary': 'Humid and Partly Cloudy', 'icon': 'partly-cloudy-day', 'precipIntensity': 0.013, 'precipProbability': 0.09, 'precipType': 'rain', 'temperature': 88.64, 'apparentTemperature': 97.35, 'dewPoint': 73.72, 'humidity': 0.62, 'pressure': 1014.73, 'windSpeed': 10.35, 'windGust': 10.89, 'windBearing': 154, 'cloudCover': 0.58, 'uvIndex': 2, 'visibility': 10, 'ozone': 297.33}, {'time': 1560294000, 'summary': 'Humid and Partly Cloudy', 'icon': 'partly-cloudy-day', 'precipIntensity': 0.0202, 'precipProbability': 0.12, 'precipType': 'rain', 'temperature': 87.17, 'apparentTemperature': 95.49, 'dewPoint': 73.83, 'humidity': 0.65, 'pressure': 1014.7, 'windSpeed': 9.48, 'windGust': 10.45, 'windBearing': 156, 'cloudCover': 0.52, 'uvIndex': 0, 'visibility': 10, 'ozone': 299.28}, {'time': 1560297600, 'summary': 'Humid and Partly Cloudy', 'icon': 'partly-cloudy-day', 'precipIntensity': 0.0247, 'precipProbability': 0.14, 'precipType': 'rain', 'temperature': 85.72, 'apparentTemperature': 93.65, 'dewPoint': 73.99, 'humidity': 0.68, 'pressure': 1014.86, 'windSpeed': 8.75, 'windGust': 10.05, 'windBearing': 157, 'cloudCover': 0.46, 'uvIndex': 0, 'visibility': 10, 'ozone': 300.86}, {'time': 1560301200, 'summary': 'Humid and Partly Cloudy', 'icon': 'partly-cloudy-night', 'precipIntensity': 0.0171, 'precipProbability': 0.12, 'precipType': 'rain', 'temperature': 84.96, 'apparentTemperature': 92.74, 'dewPoint': 74.2, 'humidity': 0.7, 'pressure': 1015.38, 'windSpeed': 8.25, 'windGust': 9.74, 'windBearing': 161, 'cloudCover': 0.39, 'uvIndex': 0, 'visibility': 10, 'ozone': 302.13}, {'time': 1560304800, 'summary': 'Humid and Partly Cloudy', 'icon': 'partly-cloudy-night', 'precipIntensity': 0.0088, 'precipProbability': 0.09, 'precipType': 'rain', 'temperature': 84.1, 'apparentTemperature': 91.65, 'dewPoint': 74.43, 'humidity': 0.73, 'pressure': 1016.09, 'windSpeed': 7.81, 'windGust': 9.33, 'windBearing': 166, 'cloudCover': 0.3, 'uvIndex': 0, 'visibility': 10, 'ozone': 303.14}, {'time': 1560308400, 'summary': 'Humid and Partly Cloudy', 'icon': 'partly-cloudy-night', 'precipIntensity': 0.0066, 'precipProbability': 0.08, 'precipType': 'rain', 'temperature': 83.24, 'apparentTemperature': 90.42, 'dewPoint': 74.56, 'humidity': 0.75, 'pressure': 1016.56, 'windSpeed': 7.37, 'windGust': 8.8, 'windBearing': 171, 'cloudCover': 0.26, 'uvIndex': 0, 'visibility': 10, 'ozone': 303.54}, {'time': 1560312000, 'summary': 'Humid and Partly Cloudy', 'icon': 'partly-cloudy-night', 'precipIntensity': 0.0051, 'precipProbability': 0.07, 'precipType': 'rain', 'temperature': 82.64, 'apparentTemperature': 89.37, 'dewPoint': 74.46, 'humidity': 0.76, 'pressure': 1016.56, 'windSpeed': 6.91, 'windGust': 8.06, 'windBearing': 178, 'cloudCover': 0.34, 'uvIndex': 0, 'visibility': 10, 'ozone': 302.94}, {'time': 1560315600, 'summary': 'Humid and Partly Cloudy', 'icon': 'partly-cloudy-night', 'precipIntensity': 0.0041, 'precipProbability': 0.06, 'precipType': 'rain', 'temperature': 82.17, 'apparentTemperature': 88.44, 'dewPoint': 74.24, 'humidity': 0.77, 'pressure': 1016.31, 'windSpeed': 6.46, 'windGust': 7.17, 'windBearing': 185, 'cloudCover': 0.47, 'uvIndex': 0, 'visibility': 10, 'ozone': 301.76}, {'time': 1560319200, 'summary': 'Humid and Partly Cloudy', 'icon': 'partly-cloudy-night', 'precipIntensity': 0.0038, 'precipProbability': 0.06, 'precipType': 'rain', 'temperature': 81.66, 'apparentTemperature': 87.47, 'dewPoint': 74.04, 'humidity': 0.78, 'pressure': 1016.07, 'windSpeed': 6.02, 'windGust': 6.36, 'windBearing': 190, 'cloudCover': 0.58, 'uvIndex': 0, 'visibility': 10, 'ozone': 300.91}, {'time': 1560322800, 'summary': 'Humid and Mostly Cloudy', 'icon': 'partly-cloudy-night', 'precipIntensity': 0.0024, 'precipProbability': 0.05, 'precipType': 'rain', 'temperature': 81.32, 'apparentTemperature': 86.84, 'dewPoint': 73.94, 'humidity': 0.78, 'pressure': 1015.8, 'windSpeed': 5.36, 'windGust': 5.72, 'windBearing': 193, 'cloudCover': 0.61, 'uvIndex': 0, 'visibility': 10, 'ozone': 300.82}, {'time': 1560326400, 'summary': 'Humid and Mostly Cloudy', 'icon': 'partly-cloudy-night', 'precipIntensity': 0.0011, 'precipProbability': 0.04, 'precipType': 'rain', 'temperature': 80.53, 'apparentTemperature': 85.41, 'dewPoint': 73.85, 'humidity': 0.8, 'pressure': 1015.5, 'windSpeed': 4.89, 'windGust': 5.15, 'windBearing': 199, 'cloudCover': 0.61, 'uvIndex': 0, 'visibility': 10, 'ozone': 301.07}, {'time': 1560330000, 'summary': 'Humid and Mostly Cloudy', 'icon': 'partly-cloudy-night', 'precipIntensity': 0.0005, 'precipProbability': 0.04, 'precipType': 'rain', 'temperature': 80.19, 'apparentTemperature': 84.76, 'dewPoint': 73.77, 'humidity': 0.81, 'pressure': 1015.39, 'windSpeed': 4.64, 'windGust': 4.8, 'windBearing': 206, 'cloudCover': 0.61, 'uvIndex': 0, 'visibility': 10, 'ozone': 300.93}, {'time': 1560333600, 'summary': 'Humid and Mostly Cloudy', 'icon': 'partly-cloudy-night', 'precipIntensity': 0.0003, 'precipProbability': 0.04, 'precipType': 'rain', 'temperature': 80.36, 'apparentTemperature': 85.07, 'dewPoint': 73.76, 'humidity': 0.8, 'pressure': 1015.61, 'windSpeed': 4.43, 'windGust': 4.56, 'windBearing': 190, 'cloudCover': 0.62, 'uvIndex': 0, 'visibility': 10, 'ozone': 299.98}, {'time': 1560337200, 'summary': 'Humid and Mostly Cloudy', 'icon': 'partly-cloudy-day', 'precipIntensity': 0.0002, 'precipProbability': 0.03, 'precipType': 'rain', 'temperature': 81.09, 'apparentTemperature': 86.33, 'dewPoint': 73.74, 'humidity': 0.78, 'pressure': 1015.99, 'windSpeed': 4.35, 'windGust': 4.42, 'windBearing': 217, 'cloudCover': 0.63, 'uvIndex': 0, 'visibility': 10, 'ozone': 298.61}, {'time': 1560340800, 'summary': 'Humid and Mostly Cloudy', 'icon': 'partly-cloudy-day', 'precipIntensity': 0.0003, 'precipProbability': 0.04, 'precipType': 'rain', 'temperature': 82.45, 'apparentTemperature': 88.53, 'dewPoint': 73.68, 'humidity': 0.75, 'pressure': 1016.39, 'windSpeed': 4.31, 'windGust': 4.45, 'windBearing': 231, 'cloudCover': 0.65, 'uvIndex': 1, 'visibility': 10, 'ozone': 297.83}, {'time': 1560344400, 'summary': 'Humid and Mostly Cloudy', 'icon': 'partly-cloudy-day', 'precipIntensity': 0, 'precipProbability': 0, 'temperature': 84.72, 'apparentTemperature': 91.8, 'dewPoint': 73.52, 'humidity': 0.69, 'pressure': 1016.71, 'windSpeed': 4.54, 'windGust': 4.66, 'windBearing': 221, 'cloudCover': 0.65, 'uvIndex': 2, 'visibility': 10, 'ozone': 297.93}, {'time': 1560348000, 'summary': 'Humid and Mostly Cloudy', 'icon': 'partly-cloudy-day', 'precipIntensity': 0, 'precipProbability': 0, 'temperature': 86.72, 'apparentTemperature': 94.39, 'dewPoint': 73.32, 'humidity': 0.65, 'pressure': 1017.04, 'windSpeed': 4.9, 'windGust': 5.16, 'windBearing': 162, 'cloudCover': 0.65, 'uvIndex': 4, 'visibility': 10, 'ozone': 298.53}, {'time': 1560351600, 'summary': 'Humid and Mostly Cloudy', 'icon': 'partly-cloudy-day', 'precipIntensity': 0, 'precipProbability': 0, 'temperature': 88.55, 'apparentTemperature': 96.63, 'dewPoint': 73.15, 'humidity': 0.61, 'pressure': 1017.19, 'windSpeed': 5.57, 'windGust': 6.22, 'windBearing': 165, 'cloudCover': 0.65, 'uvIndex': 5, 'visibility': 10, 'ozone': 299.38}, {'time': 1560355200, 'summary': 'Humid and Mostly Cloudy', 'icon': 'partly-cloudy-day', 'precipIntensity': 0.0003, 'precipProbability': 0.04, 'precipType': 'rain', 'temperature': 89.6, 'apparentTemperature': 97.92, 'dewPoint': 73.07, 'humidity': 0.58, 'pressure': 1017.19, 'windSpeed': 6.65, 'windGust': 7.06, 'windBearing': 163, 'cloudCover': 0.62, 'uvIndex': 7, 'visibility': 10, 'ozone': 300.63}, {'time': 1560358800, 'summary': 'Humid and Partly Cloudy', 'icon': 'partly-cloudy-day', 'precipIntensity': 0.0013, 'precipProbability': 0.04, 'precipType': 'rain', 'temperature': 91.02, 'apparentTemperature': 99.69, 'dewPoint': 73.02, 'humidity': 0.56, 'pressure': 1017.02, 'windSpeed': 8.03, 'windGust': 8.11, 'windBearing': 158, 'cloudCover': 0.59, 'uvIndex': 7, 'visibility': 10, 'ozone': 302.17}, {'time': 1560362400, 'summary': 'Humid and Partly Cloudy', 'icon': 'partly-cloudy-day', 'precipIntensity': 0.003, 'precipProbability': 0.06, 'precipType': 'rain', 'temperature': 91.64, 'apparentTemperature': 100.56, 'dewPoint': 73.09, 'humidity': 0.55, 'pressure': 1016.74, 'windSpeed': 9.22, 'windGust': 9.24, 'windBearing': 155, 'cloudCover': 0.59, 'uvIndex': 7, 'visibility': 10, 'ozone': 303.54}, {'time': 1560366000, 'summary': 'Humid and Partly Cloudy', 'icon': 'partly-cloudy-day', 'precipIntensity': 0.0063, 'precipProbability': 0.09, 'precipType': 'rain', 'temperature': 91.93, 'apparentTemperature': 101.18, 'dewPoint': 73.33, 'humidity': 0.55, 'pressure': 1016.23, 'windSpeed': 10.16, 'windGust': 10.2, 'windBearing': 158, 'cloudCover': 0.57, 'uvIndex': 7, 'visibility': 10, 'ozone': 304.53}, {'time': 1560369600, 'summary': 'Humid and Partly Cloudy', 'icon': 'partly-cloudy-day', 'precipIntensity': 0.0136, 'precipProbability': 0.15, 'precipType': 'rain', 'temperature': 91.15, 'apparentTemperature': 100.59, 'dewPoint': 73.69, 'humidity': 0.57, 'pressure': 1015.61, 'windSpeed': 10.89, 'windGust': 11.62, 'windBearing': 164, 'cloudCover': 0.56, 'uvIndex': 5, 'visibility': 10, 'ozone': 305.43}, {'time': 1560373200, 'summary': 'Humid and Partly Cloudy', 'icon': 'partly-cloudy-day', 'precipIntensity': 0.0229, 'precipProbability': 0.2, 'precipType': 'rain', 'temperature': 89.96, 'apparentTemperature': 99.35, 'dewPoint': 73.97, 'humidity': 0.6, 'pressure': 1015.22, 'windSpeed': 11.1, 'windGust': 12.53, 'windBearing': 169, 'cloudCover': 0.58, 'uvIndex': 3, 'visibility': 10, 'ozone': 305.9}, {'time': 1560376800, 'summary': 'Possible Light Rain', 'icon': 'rain', 'precipIntensity': 0.0442, 'precipProbability': 0.26, 'precipType': 'rain', 'temperature': 88.23, 'apparentTemperature': 97.22, 'dewPoint': 74.12, 'humidity': 0.63, 'pressure': 1015.28, 'windSpeed': 10.47, 'windGust': 12.48, 'windBearing': 174, 'cloudCover': 0.66, 'uvIndex': 2, 'visibility': 10, 'ozone': 306.29}]\n"
     ]
    }
   ],
   "source": [
    "import requests\n",
    "response = requests.get(\"https://api.darksky.net/forecast/7a0812f5b20dc415a54830dfac8aa170/25.8,-80.2\")\n",
    "Miami = response.json()\n",
    "print(Miami['hourly']['data'])\n"
   ]
  },
  {
   "cell_type": "code",
   "execution_count": 4,
   "metadata": {},
   "outputs": [],
   "source": [
    "next_day = Miami['hourly']['data']"
   ]
  },
  {
   "cell_type": "code",
   "execution_count": 6,
   "metadata": {},
   "outputs": [],
   "source": [
    "for clouds in next_day:\n",
    "    if clouds['cloudCover'] > 0.50:\n",
    "        print: (clouds['cloudCover'])\n",
    "    else: \n",
    "        print: (\"It's a clear day!\")"
   ]
  },
  {
   "cell_type": "markdown",
   "metadata": {},
   "source": [
    "# 8) For the next 24-ish hours in Miami, what percent of the time is the temperature above 85 degrees?\n",
    "\n",
    "If they give you 48 hours instead of 24, that's okay.\n",
    "\n",
    "- *Tip: You might want to read up on [looping patterns](http://jonathansoma.com/lede/foundations-2017/classes/data%20structures/looping-patterns/)*"
   ]
  },
  {
   "cell_type": "code",
   "execution_count": 14,
   "metadata": {},
   "outputs": [
    {
     "name": "stdout",
     "output_type": "stream",
     "text": [
      "{'summary': 'Humid throughout the day and partly cloudy until tomorrow evening.', 'icon': 'partly-cloudy-night', 'data': [{'time': 1560200400, 'summary': 'Humid and Partly Cloudy', 'icon': 'partly-cloudy-day', 'precipIntensity': 0, 'precipProbability': 0, 'temperature': 87.65, 'apparentTemperature': 96.42, 'dewPoint': 74.11, 'humidity': 0.64, 'pressure': 1016.01, 'windSpeed': 5.93, 'windGust': 7.38, 'windBearing': 171, 'cloudCover': 0.4, 'uvIndex': 4, 'visibility': 9.51, 'ozone': 289.48}, {'time': 1560204000, 'summary': 'Humid and Partly Cloudy', 'icon': 'partly-cloudy-day', 'precipIntensity': 0, 'precipProbability': 0, 'temperature': 86.83, 'apparentTemperature': 95.39, 'dewPoint': 74.2, 'humidity': 0.66, 'pressure': 1015.99, 'windSpeed': 6.65, 'windGust': 7.85, 'windBearing': 165, 'cloudCover': 0.54, 'uvIndex': 2, 'visibility': 9.59, 'ozone': 288.87}, {'time': 1560207600, 'summary': 'Humid and Mostly Cloudy', 'icon': 'partly-cloudy-day', 'precipIntensity': 0, 'precipProbability': 0, 'temperature': 86.29, 'apparentTemperature': 94.21, 'dewPoint': 73.75, 'humidity': 0.66, 'pressure': 1015.64, 'windSpeed': 6.9, 'windGust': 7.36, 'windBearing': 163, 'cloudCover': 0.75, 'uvIndex': 0, 'visibility': 10, 'ozone': 288.6}, {'time': 1560211200, 'summary': 'Humid and Mostly Cloudy', 'icon': 'partly-cloudy-day', 'precipIntensity': 0, 'precipProbability': 0, 'temperature': 85.04, 'apparentTemperature': 92.31, 'dewPoint': 73.57, 'humidity': 0.69, 'pressure': 1015.62, 'windSpeed': 6.94, 'windGust': 7.96, 'windBearing': 166, 'cloudCover': 0.61, 'uvIndex': 0, 'visibility': 10, 'ozone': 288.54}, {'time': 1560214800, 'summary': 'Humid and Partly Cloudy', 'icon': 'partly-cloudy-night', 'precipIntensity': 0, 'precipProbability': 0, 'temperature': 83.93, 'apparentTemperature': 90.81, 'dewPoint': 73.7, 'humidity': 0.71, 'pressure': 1015.92, 'windSpeed': 6.4, 'windGust': 8.19, 'windBearing': 167, 'cloudCover': 0.47, 'uvIndex': 0, 'visibility': 10, 'ozone': 288.67}, {'time': 1560218400, 'summary': 'Humid and Partly Cloudy', 'icon': 'partly-cloudy-night', 'precipIntensity': 0, 'precipProbability': 0, 'temperature': 83.28, 'apparentTemperature': 89.87, 'dewPoint': 73.75, 'humidity': 0.73, 'pressure': 1016.27, 'windSpeed': 5.8, 'windGust': 7.4, 'windBearing': 171, 'cloudCover': 0.34, 'uvIndex': 0, 'visibility': 10, 'ozone': 289.04}, {'time': 1560222000, 'summary': 'Humid and Partly Cloudy', 'icon': 'partly-cloudy-night', 'precipIntensity': 0, 'precipProbability': 0, 'temperature': 82.36, 'apparentTemperature': 88.46, 'dewPoint': 73.8, 'humidity': 0.75, 'pressure': 1016.54, 'windSpeed': 5.07, 'windGust': 6.89, 'windBearing': 177, 'cloudCover': 0.32, 'uvIndex': 0, 'visibility': 10, 'ozone': 289.36}, {'time': 1560225600, 'summary': 'Humid and Partly Cloudy', 'icon': 'partly-cloudy-night', 'precipIntensity': 0.0018, 'precipProbability': 0.03, 'precipType': 'rain', 'temperature': 81.71, 'apparentTemperature': 87.5, 'dewPoint': 73.96, 'humidity': 0.77, 'pressure': 1016.63, 'windSpeed': 4.74, 'windGust': 6.31, 'windBearing': 185, 'cloudCover': 0.29, 'uvIndex': 0, 'visibility': 10, 'ozone': 289.51}, {'time': 1560229200, 'summary': 'Humid and Partly Cloudy', 'icon': 'partly-cloudy-night', 'precipIntensity': 0, 'precipProbability': 0, 'temperature': 81.18, 'apparentTemperature': 86.66, 'dewPoint': 74.07, 'humidity': 0.79, 'pressure': 1016.49, 'windSpeed': 4.47, 'windGust': 5.61, 'windBearing': 197, 'cloudCover': 0.27, 'uvIndex': 0, 'visibility': 10, 'ozone': 289.8}, {'time': 1560232800, 'summary': 'Humid', 'icon': 'clear-night', 'precipIntensity': 0.0009, 'precipProbability': 0.02, 'precipType': 'rain', 'temperature': 80.76, 'apparentTemperature': 85.92, 'dewPoint': 74.07, 'humidity': 0.8, 'pressure': 1016.31, 'windSpeed': 4.33, 'windGust': 5.39, 'windBearing': 201, 'cloudCover': 0.24, 'uvIndex': 0, 'visibility': 10, 'ozone': 290.12}, {'time': 1560236400, 'summary': 'Humid and Partly Cloudy', 'icon': 'partly-cloudy-night', 'precipIntensity': 0.0017, 'precipProbability': 0.03, 'precipType': 'rain', 'temperature': 80.48, 'apparentTemperature': 85.36, 'dewPoint': 73.95, 'humidity': 0.81, 'pressure': 1016.14, 'windSpeed': 4.32, 'windGust': 5.49, 'windBearing': 208, 'cloudCover': 0.35, 'uvIndex': 0, 'visibility': 10, 'ozone': 290.78}, {'time': 1560240000, 'summary': 'Humid and Partly Cloudy', 'icon': 'partly-cloudy-night', 'precipIntensity': 0.0022, 'precipProbability': 0.03, 'precipType': 'rain', 'temperature': 80.06, 'apparentTemperature': 84.54, 'dewPoint': 73.8, 'humidity': 0.81, 'pressure': 1015.98, 'windSpeed': 4.04, 'windGust': 5.38, 'windBearing': 220, 'cloudCover': 0.35, 'uvIndex': 0, 'visibility': 10, 'ozone': 291.58}, {'time': 1560243600, 'summary': 'Humid and Partly Cloudy', 'icon': 'partly-cloudy-night', 'precipIntensity': 0.0016, 'precipProbability': 0.03, 'precipType': 'rain', 'temperature': 79.78, 'apparentTemperature': 83.98, 'dewPoint': 73.71, 'humidity': 0.82, 'pressure': 1015.84, 'windSpeed': 3.95, 'windGust': 5.11, 'windBearing': 217, 'cloudCover': 0.39, 'uvIndex': 0, 'visibility': 10, 'ozone': 292.35}, {'time': 1560247200, 'summary': 'Humid and Partly Cloudy', 'icon': 'partly-cloudy-night', 'precipIntensity': 0.002, 'precipProbability': 0.03, 'precipType': 'rain', 'temperature': 80.11, 'apparentTemperature': 84.59, 'dewPoint': 73.69, 'humidity': 0.81, 'pressure': 1016.07, 'windSpeed': 3.78, 'windGust': 5.59, 'windBearing': 212, 'cloudCover': 0.44, 'uvIndex': 0, 'visibility': 10, 'ozone': 293.11}, {'time': 1560250800, 'summary': 'Humid and Mostly Cloudy', 'icon': 'partly-cloudy-day', 'precipIntensity': 0.0008, 'precipProbability': 0.03, 'precipType': 'rain', 'temperature': 81.33, 'apparentTemperature': 86.63, 'dewPoint': 73.51, 'humidity': 0.77, 'pressure': 1016.24, 'windSpeed': 3.24, 'windGust': 3.46, 'windBearing': 184, 'cloudCover': 0.73, 'uvIndex': 0, 'visibility': 10, 'ozone': 293.95}, {'time': 1560254400, 'summary': 'Humid and Mostly Cloudy', 'icon': 'partly-cloudy-day', 'precipIntensity': 0.0007, 'precipProbability': 0.03, 'precipType': 'rain', 'temperature': 82.51, 'apparentTemperature': 88.52, 'dewPoint': 73.5, 'humidity': 0.74, 'pressure': 1016.6, 'windSpeed': 3.32, 'windGust': 3.66, 'windBearing': 177, 'cloudCover': 0.85, 'uvIndex': 1, 'visibility': 10, 'ozone': 294.41}, {'time': 1560258000, 'summary': 'Humid and Mostly Cloudy', 'icon': 'partly-cloudy-day', 'precipIntensity': 0.0005, 'precipProbability': 0.03, 'precipType': 'rain', 'temperature': 84.48, 'apparentTemperature': 91.25, 'dewPoint': 73.26, 'humidity': 0.69, 'pressure': 1016.91, 'windSpeed': 3.77, 'windGust': 4.32, 'windBearing': 168, 'cloudCover': 0.84, 'uvIndex': 2, 'visibility': 10, 'ozone': 294.43}, {'time': 1560261600, 'summary': 'Humid and Mostly Cloudy', 'icon': 'partly-cloudy-day', 'precipIntensity': 0.0003, 'precipProbability': 0.02, 'precipType': 'rain', 'temperature': 86.6, 'apparentTemperature': 93.86, 'dewPoint': 72.92, 'humidity': 0.64, 'pressure': 1017.2, 'windSpeed': 4.48, 'windGust': 5.51, 'windBearing': 159, 'cloudCover': 0.75, 'uvIndex': 4, 'visibility': 10, 'ozone': 294.14}, {'time': 1560265200, 'summary': 'Humid and Mostly Cloudy', 'icon': 'partly-cloudy-day', 'precipIntensity': 0.0002, 'precipProbability': 0.02, 'precipType': 'rain', 'temperature': 88.24, 'apparentTemperature': 95.76, 'dewPoint': 72.66, 'humidity': 0.6, 'pressure': 1017.28, 'windSpeed': 5.31, 'windGust': 6.5, 'windBearing': 151, 'cloudCover': 0.7, 'uvIndex': 5, 'visibility': 10, 'ozone': 293.94}, {'time': 1560268800, 'summary': 'Humid and Mostly Cloudy', 'icon': 'partly-cloudy-day', 'precipIntensity': 0.0003, 'precipProbability': 0.02, 'precipType': 'rain', 'temperature': 89.33, 'apparentTemperature': 97.01, 'dewPoint': 72.52, 'humidity': 0.58, 'pressure': 1017.11, 'windSpeed': 6.33, 'windGust': 7.12, 'windBearing': 148, 'cloudCover': 0.72, 'uvIndex': 6, 'visibility': 10, 'ozone': 293.92}, {'time': 1560272400, 'summary': 'Humid and Mostly Cloudy', 'icon': 'partly-cloudy-day', 'precipIntensity': 0.0007, 'precipProbability': 0.02, 'precipType': 'rain', 'temperature': 90.21, 'apparentTemperature': 98.06, 'dewPoint': 72.45, 'humidity': 0.56, 'pressure': 1016.73, 'windSpeed': 7.47, 'windGust': 7.6, 'windBearing': 149, 'cloudCover': 0.78, 'uvIndex': 6, 'visibility': 10, 'ozone': 294}, {'time': 1560276000, 'summary': 'Humid and Mostly Cloudy', 'icon': 'partly-cloudy-day', 'precipIntensity': 0.0013, 'precipProbability': 0.03, 'precipType': 'rain', 'temperature': 90.61, 'apparentTemperature': 98.61, 'dewPoint': 72.5, 'humidity': 0.56, 'pressure': 1016.32, 'windSpeed': 8.36, 'windGust': 8.4, 'windBearing': 150, 'cloudCover': 0.83, 'uvIndex': 6, 'visibility': 10, 'ozone': 294.2}, {'time': 1560279600, 'summary': 'Humid and Mostly Cloudy', 'icon': 'partly-cloudy-day', 'precipIntensity': 0.002, 'precipProbability': 0.03, 'precipType': 'rain', 'temperature': 90.68, 'apparentTemperature': 98.91, 'dewPoint': 72.7, 'humidity': 0.56, 'pressure': 1015.91, 'windSpeed': 8.91, 'windGust': 8.91, 'windBearing': 151, 'cloudCover': 0.84, 'uvIndex': 5, 'visibility': 10, 'ozone': 294.49}, {'time': 1560283200, 'summary': 'Humid and Mostly Cloudy', 'icon': 'partly-cloudy-day', 'precipIntensity': 0.0046, 'precipProbability': 0.06, 'precipType': 'rain', 'temperature': 89.88, 'apparentTemperature': 98.2, 'dewPoint': 72.99, 'humidity': 0.58, 'pressure': 1015.48, 'windSpeed': 9.2, 'windGust': 9.21, 'windBearing': 153, 'cloudCover': 0.83, 'uvIndex': 4, 'visibility': 10, 'ozone': 294.97}, {'time': 1560286800, 'summary': 'Humid and Mostly Cloudy', 'icon': 'partly-cloudy-day', 'precipIntensity': 0.0075, 'precipProbability': 0.09, 'precipType': 'rain', 'temperature': 88.88, 'apparentTemperature': 97.14, 'dewPoint': 73.22, 'humidity': 0.6, 'pressure': 1015.16, 'windSpeed': 9.35, 'windGust': 9.35, 'windBearing': 153, 'cloudCover': 0.8, 'uvIndex': 3, 'visibility': 10, 'ozone': 295.84}, {'time': 1560290400, 'summary': 'Humid and Mostly Cloudy', 'icon': 'partly-cloudy-day', 'precipIntensity': 0.0083, 'precipProbability': 0.1, 'precipType': 'rain', 'temperature': 87.77, 'apparentTemperature': 95.76, 'dewPoint': 73.29, 'humidity': 0.62, 'pressure': 1014.94, 'windSpeed': 9.34, 'windGust': 9.44, 'windBearing': 154, 'cloudCover': 0.73, 'uvIndex': 2, 'visibility': 10, 'ozone': 297.33}, {'time': 1560294000, 'summary': 'Humid and Mostly Cloudy', 'icon': 'partly-cloudy-day', 'precipIntensity': 0.0098, 'precipProbability': 0.12, 'precipType': 'rain', 'temperature': 86.4, 'apparentTemperature': 93.95, 'dewPoint': 73.31, 'humidity': 0.65, 'pressure': 1014.84, 'windSpeed': 9.16, 'windGust': 10.04, 'windBearing': 154, 'cloudCover': 0.63, 'uvIndex': 0, 'visibility': 10, 'ozone': 299.28}, {'time': 1560297600, 'summary': 'Humid and Partly Cloudy', 'icon': 'partly-cloudy-day', 'precipIntensity': 0.0108, 'precipProbability': 0.13, 'precipType': 'rain', 'temperature': 85.33, 'apparentTemperature': 92.54, 'dewPoint': 73.38, 'humidity': 0.68, 'pressure': 1014.96, 'windSpeed': 8.86, 'windGust': 10.3, 'windBearing': 155, 'cloudCover': 0.54, 'uvIndex': 0, 'visibility': 10, 'ozone': 300.86}, {'time': 1560301200, 'summary': 'Humid and Partly Cloudy', 'icon': 'partly-cloudy-night', 'precipIntensity': 0.009, 'precipProbability': 0.13, 'precipType': 'rain', 'temperature': 84.66, 'apparentTemperature': 91.73, 'dewPoint': 73.54, 'humidity': 0.69, 'pressure': 1015.47, 'windSpeed': 8.42, 'windGust': 9.97, 'windBearing': 159, 'cloudCover': 0.46, 'uvIndex': 0, 'visibility': 10, 'ozone': 302.13}, {'time': 1560304800, 'summary': 'Humid and Partly Cloudy', 'icon': 'partly-cloudy-night', 'precipIntensity': 0.0114, 'precipProbability': 0.13, 'precipType': 'rain', 'temperature': 83.91, 'apparentTemperature': 90.81, 'dewPoint': 73.75, 'humidity': 0.72, 'pressure': 1016.18, 'windSpeed': 7.86, 'windGust': 9.24, 'windBearing': 164, 'cloudCover': 0.37, 'uvIndex': 0, 'visibility': 10, 'ozone': 303.14}, {'time': 1560308400, 'summary': 'Humid and Partly Cloudy', 'icon': 'partly-cloudy-night', 'precipIntensity': 0.0171, 'precipProbability': 0.15, 'precipType': 'rain', 'temperature': 83.01, 'apparentTemperature': 89.53, 'dewPoint': 73.86, 'humidity': 0.74, 'pressure': 1016.67, 'windSpeed': 7.29, 'windGust': 8.41, 'windBearing': 168, 'cloudCover': 0.32, 'uvIndex': 0, 'visibility': 10, 'ozone': 303.54}, {'time': 1560312000, 'summary': 'Humid and Partly Cloudy', 'icon': 'partly-cloudy-night', 'precipIntensity': 0.0175, 'precipProbability': 0.14, 'precipType': 'rain', 'temperature': 82.36, 'apparentTemperature': 88.5, 'dewPoint': 73.86, 'humidity': 0.76, 'pressure': 1016.68, 'windSpeed': 6.74, 'windGust': 7.5, 'windBearing': 174, 'cloudCover': 0.37, 'uvIndex': 0, 'visibility': 10, 'ozone': 302.94}, {'time': 1560315600, 'summary': 'Humid and Partly Cloudy', 'icon': 'partly-cloudy-night', 'precipIntensity': 0.0148, 'precipProbability': 0.13, 'precipType': 'rain', 'temperature': 81.76, 'apparentTemperature': 87.48, 'dewPoint': 73.77, 'humidity': 0.77, 'pressure': 1016.44, 'windSpeed': 6.18, 'windGust': 6.49, 'windBearing': 181, 'cloudCover': 0.46, 'uvIndex': 0, 'visibility': 10, 'ozone': 301.76}, {'time': 1560319200, 'summary': 'Humid and Partly Cloudy', 'icon': 'partly-cloudy-night', 'precipIntensity': 0.0131, 'precipProbability': 0.12, 'precipType': 'rain', 'temperature': 81.27, 'apparentTemperature': 86.6, 'dewPoint': 73.65, 'humidity': 0.78, 'pressure': 1016.19, 'windSpeed': 5.72, 'windGust': 5.92, 'windBearing': 185, 'cloudCover': 0.54, 'uvIndex': 0, 'visibility': 10, 'ozone': 300.91}, {'time': 1560322800, 'summary': 'Humid and Partly Cloudy', 'icon': 'partly-cloudy-night', 'precipIntensity': 0.0134, 'precipProbability': 0.13, 'precipType': 'rain', 'temperature': 80.6, 'apparentTemperature': 85.39, 'dewPoint': 73.5, 'humidity': 0.79, 'pressure': 1015.91, 'windSpeed': 5.27, 'windGust': 5.57, 'windBearing': 188, 'cloudCover': 0.58, 'uvIndex': 0, 'visibility': 10, 'ozone': 300.82}, {'time': 1560326400, 'summary': 'Humid and Partly Cloudy', 'icon': 'partly-cloudy-night', 'precipIntensity': 0.0144, 'precipProbability': 0.15, 'precipType': 'rain', 'temperature': 79.95, 'apparentTemperature': 84.15, 'dewPoint': 73.3, 'humidity': 0.8, 'pressure': 1015.61, 'windSpeed': 5.04, 'windGust': 5.3, 'windBearing': 193, 'cloudCover': 0.59, 'uvIndex': 0, 'visibility': 10, 'ozone': 301.07}, {'time': 1560330000, 'summary': 'Humid and Partly Cloudy', 'icon': 'partly-cloudy-night', 'precipIntensity': 0.013, 'precipProbability': 0.14, 'precipType': 'rain', 'temperature': 79.7, 'apparentTemperature': 83.66, 'dewPoint': 73.14, 'humidity': 0.8, 'pressure': 1015.49, 'windSpeed': 4.96, 'windGust': 5.11, 'windBearing': 202, 'cloudCover': 0.59, 'uvIndex': 0, 'visibility': 10, 'ozone': 300.93}, {'time': 1560333600, 'summary': 'Humid and Partly Cloudy', 'icon': 'partly-cloudy-night', 'precipIntensity': 0.007, 'precipProbability': 0.1, 'precipType': 'rain', 'temperature': 80.31, 'apparentTemperature': 84.7, 'dewPoint': 73.06, 'humidity': 0.79, 'pressure': 1015.68, 'windSpeed': 4.69, 'windGust': 4.85, 'windBearing': 186, 'cloudCover': 0.59, 'uvIndex': 0, 'visibility': 10, 'ozone': 299.98}, {'time': 1560337200, 'summary': 'Humid and Partly Cloudy', 'icon': 'partly-cloudy-day', 'precipIntensity': 0.0017, 'precipProbability': 0.07, 'precipType': 'rain', 'temperature': 81.34, 'apparentTemperature': 86.38, 'dewPoint': 73.03, 'humidity': 0.76, 'pressure': 1016.06, 'windSpeed': 4.51, 'windGust': 4.63, 'windBearing': 206, 'cloudCover': 0.57, 'uvIndex': 0, 'visibility': 10, 'ozone': 298.61}, {'time': 1560340800, 'summary': 'Humid and Partly Cloudy', 'icon': 'partly-cloudy-day', 'precipIntensity': 0.0002, 'precipProbability': 0.05, 'precipType': 'rain', 'temperature': 82.96, 'apparentTemperature': 88.83, 'dewPoint': 72.95, 'humidity': 0.72, 'pressure': 1016.42, 'windSpeed': 4.38, 'windGust': 4.61, 'windBearing': 227, 'cloudCover': 0.55, 'uvIndex': 1, 'visibility': 10, 'ozone': 297.83}, {'time': 1560344400, 'summary': 'Humid and Partly Cloudy', 'icon': 'partly-cloudy-day', 'precipIntensity': 0, 'precipProbability': 0, 'temperature': 84.98, 'apparentTemperature': 91.58, 'dewPoint': 72.8, 'humidity': 0.67, 'pressure': 1016.72, 'windSpeed': 4.6, 'windGust': 4.79, 'windBearing': 214, 'cloudCover': 0.51, 'uvIndex': 2, 'visibility': 10, 'ozone': 297.93}, {'time': 1560348000, 'summary': 'Humid and Partly Cloudy', 'icon': 'partly-cloudy-day', 'precipIntensity': 0, 'precipProbability': 0, 'temperature': 86.93, 'apparentTemperature': 94.04, 'dewPoint': 72.64, 'humidity': 0.63, 'pressure': 1017.01, 'windSpeed': 4.92, 'windGust': 5.1, 'windBearing': 156, 'cloudCover': 0.46, 'uvIndex': 4, 'visibility': 10, 'ozone': 298.53}, {'time': 1560351600, 'summary': 'Humid and Partly Cloudy', 'icon': 'partly-cloudy-day', 'precipIntensity': 0, 'precipProbability': 0, 'temperature': 88.51, 'apparentTemperature': 96.01, 'dewPoint': 72.56, 'humidity': 0.59, 'pressure': 1017.17, 'windSpeed': 5.61, 'windGust': 5.63, 'windBearing': 160, 'cloudCover': 0.44, 'uvIndex': 6, 'visibility': 10, 'ozone': 299.38}, {'time': 1560355200, 'summary': 'Humid and Partly Cloudy', 'icon': 'partly-cloudy-day', 'precipIntensity': 0.0003, 'precipProbability': 0.05, 'precipType': 'rain', 'temperature': 89.51, 'apparentTemperature': 97.29, 'dewPoint': 72.57, 'humidity': 0.58, 'pressure': 1017.19, 'windSpeed': 6.74, 'windGust': 6.75, 'windBearing': 159, 'cloudCover': 0.44, 'uvIndex': 8, 'visibility': 10, 'ozone': 300.63}, {'time': 1560358800, 'summary': 'Humid and Partly Cloudy', 'icon': 'partly-cloudy-day', 'precipIntensity': 0.0014, 'precipProbability': 0.04, 'precipType': 'rain', 'temperature': 90.81, 'apparentTemperature': 99.04, 'dewPoint': 72.66, 'humidity': 0.56, 'pressure': 1017.06, 'windSpeed': 8.2, 'windGust': 8.21, 'windBearing': 155, 'cloudCover': 0.47, 'uvIndex': 8, 'visibility': 10, 'ozone': 302.17}, {'time': 1560362400, 'summary': 'Humid and Partly Cloudy', 'icon': 'partly-cloudy-day', 'precipIntensity': 0.003, 'precipProbability': 0.05, 'precipType': 'rain', 'temperature': 91.42, 'apparentTemperature': 99.92, 'dewPoint': 72.76, 'humidity': 0.55, 'pressure': 1016.84, 'windSpeed': 9.46, 'windGust': 9.48, 'windBearing': 153, 'cloudCover': 0.51, 'uvIndex': 8, 'visibility': 10, 'ozone': 303.54}, {'time': 1560366000, 'summary': 'Humid and Partly Cloudy', 'icon': 'partly-cloudy-day', 'precipIntensity': 0.0058, 'precipProbability': 0.09, 'precipType': 'rain', 'temperature': 91.71, 'apparentTemperature': 100.49, 'dewPoint': 72.95, 'humidity': 0.55, 'pressure': 1016.35, 'windSpeed': 10.49, 'windGust': 10.56, 'windBearing': 158, 'cloudCover': 0.49, 'uvIndex': 7, 'visibility': 10, 'ozone': 304.53}, {'time': 1560369600, 'summary': 'Humid and Partly Cloudy', 'icon': 'partly-cloudy-day', 'precipIntensity': 0.012, 'precipProbability': 0.1, 'precipType': 'rain', 'temperature': 90.97, 'apparentTemperature': 99.8, 'dewPoint': 73.18, 'humidity': 0.56, 'pressure': 1015.73, 'windSpeed': 11.33, 'windGust': 12.28, 'windBearing': 165, 'cloudCover': 0.45, 'uvIndex': 5, 'visibility': 10, 'ozone': 305.43}, {'time': 1560373200, 'summary': 'Humid and Partly Cloudy', 'icon': 'partly-cloudy-day', 'precipIntensity': 0.016, 'precipProbability': 0.12, 'precipType': 'rain', 'temperature': 89.71, 'apparentTemperature': 98.38, 'dewPoint': 73.38, 'humidity': 0.59, 'pressure': 1015.37, 'windSpeed': 11.5, 'windGust': 13.29, 'windBearing': 171, 'cloudCover': 0.45, 'uvIndex': 3, 'visibility': 10, 'ozone': 305.9}]}\n"
     ]
    }
   ],
   "source": [
    "print(Miami['hourly'])"
   ]
  },
  {
   "cell_type": "code",
   "execution_count": 57,
   "metadata": {},
   "outputs": [],
   "source": []
  },
  {
   "cell_type": "code",
   "execution_count": 16,
   "metadata": {
    "scrolled": true
   },
   "outputs": [
    {
     "name": "stdout",
     "output_type": "stream",
     "text": [
      "87.65 1560200400\n",
      "86.83 1560204000\n",
      "86.29 1560207600\n",
      "85.04 1560211200\n",
      "86.6 1560261600\n",
      "88.24 1560265200\n",
      "89.33 1560268800\n",
      "90.21 1560272400\n",
      "90.61 1560276000\n",
      "90.68 1560279600\n",
      "89.88 1560283200\n",
      "88.88 1560286800\n",
      "87.77 1560290400\n",
      "86.4 1560294000\n",
      "85.33 1560297600\n",
      "86.93 1560348000\n",
      "88.51 1560351600\n",
      "89.51 1560355200\n",
      "90.81 1560358800\n",
      "91.42 1560362400\n",
      "91.71 1560366000\n",
      "90.97 1560369600\n",
      "89.71 1560373200\n"
     ]
    }
   ],
   "source": [
    "for temp in next_day:\n",
    "    if temp['temperature'] > 85:\n",
    "        print (temp['temperature'], temp['time'])"
   ]
  },
  {
   "cell_type": "markdown",
   "metadata": {},
   "source": [
    "## 9) What was the temperature in Central Park on Christmas Day, 2012? How about 2007? 2005? How far back does the API allow you to go?\n",
    "\n",
    "- *Tip: You'll need to use UNIX time, which is the number of seconds since January 1, 1970. Google can help you convert a normal date!*\n",
    "- *Tip: You'll want to use Forecast.io's \"time machine\" API, [documentation here](https://darksky.net/dev/docs/time-machine)*"
   ]
  },
  {
   "cell_type": "code",
   "execution_count": 30,
   "metadata": {},
   "outputs": [],
   "source": [
    "import requests\n",
    "response = requests.get(\"https://api.darksky.net/forecast/7a0812f5b20dc415a54830dfac8aa170/40.7829,-73.9654,1356455592\")"
   ]
  },
  {
   "cell_type": "code",
   "execution_count": 33,
   "metadata": {},
   "outputs": [
    {
     "name": "stdout",
     "output_type": "stream",
     "text": [
      "40.25\n"
     ]
    }
   ],
   "source": [
    "NYC_Christmas2012 = response.json()\n",
    "print(NYC_Christmas2012['currently']['temperature'])"
   ]
  },
  {
   "cell_type": "code",
   "execution_count": 34,
   "metadata": {},
   "outputs": [],
   "source": [
    "response = requests.get(\"https://api.darksky.net/forecast/7a0812f5b20dc415a54830dfac8aa170/40.7829,-73.9654,1198602792\")"
   ]
  },
  {
   "cell_type": "code",
   "execution_count": 35,
   "metadata": {},
   "outputs": [
    {
     "name": "stdout",
     "output_type": "stream",
     "text": [
      "41.9\n"
     ]
    }
   ],
   "source": [
    "NYC_Christmas2007 = response.json()\n",
    "print(NYC_Christmas2007['currently']['temperature'])"
   ]
  },
  {
   "cell_type": "code",
   "execution_count": 36,
   "metadata": {},
   "outputs": [],
   "source": [
    "response = requests.get(\"https://api.darksky.net/forecast/7a0812f5b20dc415a54830dfac8aa170/40.7829,-73.9654,1135530792\")"
   ]
  },
  {
   "cell_type": "code",
   "execution_count": 37,
   "metadata": {},
   "outputs": [
    {
     "name": "stdout",
     "output_type": "stream",
     "text": [
      "42.11\n"
     ]
    }
   ],
   "source": [
    "NYC_Christmas2005 = response.json()\n",
    "print(NYC_Christmas2005['currently']['temperature'])"
   ]
  },
  {
   "cell_type": "code",
   "execution_count": null,
   "metadata": {},
   "outputs": [],
   "source": []
  },
  {
   "cell_type": "code",
   "execution_count": null,
   "metadata": {},
   "outputs": [],
   "source": []
  }
 ],
 "metadata": {
  "kernelspec": {
   "display_name": "Python 3",
   "language": "python",
   "name": "python3"
  },
  "language_info": {
   "codemirror_mode": {
    "name": "ipython",
    "version": 3
   },
   "file_extension": ".py",
   "mimetype": "text/x-python",
   "name": "python",
   "nbconvert_exporter": "python",
   "pygments_lexer": "ipython3",
   "version": "3.7.1"
  }
 },
 "nbformat": 4,
 "nbformat_minor": 1
}
