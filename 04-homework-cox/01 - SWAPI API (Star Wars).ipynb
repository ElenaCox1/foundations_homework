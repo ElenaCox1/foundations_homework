{
 "cells": [
  {
   "cell_type": "markdown",
   "metadata": {},
   "source": [
    "# SWAPI (Star Wars)\n",
    "\n",
    "Answer the following questions using the [Star Wars](https://swapi.co/). I've added three cells for each question but you're free to use more or less! Hold `Shift` and hit `Enter` to run a cell, and use the `+` on the top left to add a new cell to a notebook.\n",
    "\n",
    "If you spend some time reading the documentation your life will probably be a little bit easier!\n",
    "\n",
    "## 0) Import any libraries you might need\n",
    "\n",
    "- *Tip: We're going to be downloading things from the internet, so we probably need `requests`.*"
   ]
  },
  {
   "cell_type": "code",
   "execution_count": 4,
   "metadata": {},
   "outputs": [
    {
     "name": "stdout",
     "output_type": "stream",
     "text": [
      "{\"people\":\"https://swapi.co/api/people/\",\"planets\":\"https://swapi.co/api/planets/\",\"films\":\"https://swapi.co/api/films/\",\"species\":\"https://swapi.co/api/species/\",\"vehicles\":\"https://swapi.co/api/vehicles/\",\"starships\":\"https://swapi.co/api/starships/\"}\n"
     ]
    }
   ],
   "source": [
    "import requests\n",
    "response = requests.get(\"https://swapi.co/api/\")\n",
    "print(response.text)"
   ]
  },
  {
   "cell_type": "code",
   "execution_count": 5,
   "metadata": {
    "scrolled": true
   },
   "outputs": [
    {
     "name": "stdout",
     "output_type": "stream",
     "text": [
      "dict_keys(['people', 'planets', 'films', 'species', 'vehicles', 'starships'])\n"
     ]
    }
   ],
   "source": [
    "data = response.json()\n",
    "print(data.keys())"
   ]
  },
  {
   "cell_type": "code",
   "execution_count": null,
   "metadata": {},
   "outputs": [],
   "source": []
  },
  {
   "cell_type": "markdown",
   "metadata": {},
   "source": [
    "## 1) Make a request to the Star Wars API\n",
    "\n",
    "I've heard there's a new Star Wars film called **Solo**, but it isn't in SWAPI!\n",
    "\n",
    "The most recent film it contains has an ID of 7. Make a request for that film and look at the data."
   ]
  },
  {
   "cell_type": "code",
   "execution_count": 58,
   "metadata": {},
   "outputs": [
    {
     "name": "stdout",
     "output_type": "stream",
     "text": [
      "<class 'dict'>\n"
     ]
    }
   ],
   "source": [
    "response = requests.get(\"https://swapi.co/api/films/7/\")\n",
    "film7 = response.json()\n",
    "print(type(data))"
   ]
  },
  {
   "cell_type": "code",
   "execution_count": 59,
   "metadata": {},
   "outputs": [
    {
     "name": "stdout",
     "output_type": "stream",
     "text": [
      "dict_keys(['title', 'episode_id', 'opening_crawl', 'director', 'producer', 'release_date', 'characters', 'planets', 'starships', 'vehicles', 'species', 'created', 'edited', 'url'])\n"
     ]
    }
   ],
   "source": [
    "print(film7.keys())"
   ]
  },
  {
   "cell_type": "code",
   "execution_count": null,
   "metadata": {},
   "outputs": [],
   "source": []
  },
  {
   "cell_type": "markdown",
   "metadata": {},
   "source": [
    "## 2) What is that film's name, and when was it released?\n",
    "\n",
    "Please print **only** the title and the release date. You can guess at the keys, but I recommend checking the documentation."
   ]
  },
  {
   "cell_type": "code",
   "execution_count": 60,
   "metadata": {},
   "outputs": [
    {
     "name": "stdout",
     "output_type": "stream",
     "text": [
      "The Force Awakens 2015-12-11\n"
     ]
    }
   ],
   "source": [
    "print (film7['title'],film7['release_date'])"
   ]
  },
  {
   "cell_type": "code",
   "execution_count": null,
   "metadata": {},
   "outputs": [],
   "source": []
  },
  {
   "cell_type": "code",
   "execution_count": null,
   "metadata": {},
   "outputs": [],
   "source": []
  },
  {
   "cell_type": "markdown",
   "metadata": {},
   "source": [
    "## 3) But I want Han Solo! Use the API to search for people named \"Solo\"."
   ]
  },
  {
   "cell_type": "code",
   "execution_count": 109,
   "metadata": {},
   "outputs": [],
   "source": [
    "response = requests.get('https://swapi.co/api/people/?search=solo')\n",
    "solo = response.json()"
   ]
  },
  {
   "cell_type": "code",
   "execution_count": 110,
   "metadata": {},
   "outputs": [
    {
     "data": {
      "text/plain": [
       "dict_keys(['count', 'next', 'previous', 'results'])"
      ]
     },
     "execution_count": 110,
     "metadata": {},
     "output_type": "execute_result"
    }
   ],
   "source": [
    "\n",
    "solo.keys()"
   ]
  },
  {
   "cell_type": "code",
   "execution_count": null,
   "metadata": {},
   "outputs": [],
   "source": []
  },
  {
   "cell_type": "markdown",
   "metadata": {},
   "source": [
    "## 4) How many results did you get?\n",
    "\n",
    "Show **two different ways** of displaying this number.\n",
    "\n",
    "- *Tip: One uses the API, and one uses a Python function*"
   ]
  },
  {
   "cell_type": "code",
   "execution_count": 114,
   "metadata": {},
   "outputs": [
    {
     "data": {
      "text/plain": [
       "1"
      ]
     },
     "execution_count": 114,
     "metadata": {},
     "output_type": "execute_result"
    }
   ],
   "source": [
    "len(solo['results'])"
   ]
  },
  {
   "cell_type": "code",
   "execution_count": 113,
   "metadata": {},
   "outputs": [
    {
     "name": "stdout",
     "output_type": "stream",
     "text": [
      "1\n"
     ]
    }
   ],
   "source": [
    "print(solo['count'])"
   ]
  },
  {
   "cell_type": "code",
   "execution_count": null,
   "metadata": {},
   "outputs": [],
   "source": []
  },
  {
   "cell_type": "markdown",
   "metadata": {},
   "source": [
    "## 5) Write me a sentence about Han Solo\n",
    "\n",
    "Your sentence should be say `\"____ has _____ hair, is _____cm tall and weighs ____kg.\"` - make sure you have **no spcaes** between the numbers and `cm`/`kg`."
   ]
  },
  {
   "cell_type": "code",
   "execution_count": 123,
   "metadata": {},
   "outputs": [
    {
     "name": "stdout",
     "output_type": "stream",
     "text": [
      "[{'name': 'Han Solo', 'height': '180', 'mass': '80', 'hair_color': 'brown', 'skin_color': 'fair', 'eye_color': 'brown', 'birth_year': '29BBY', 'gender': 'male', 'homeworld': 'https://swapi.co/api/planets/22/', 'films': ['https://swapi.co/api/films/2/', 'https://swapi.co/api/films/3/', 'https://swapi.co/api/films/1/', 'https://swapi.co/api/films/7/'], 'species': ['https://swapi.co/api/species/1/'], 'vehicles': [], 'starships': ['https://swapi.co/api/starships/10/', 'https://swapi.co/api/starships/22/'], 'created': '2014-12-10T16:49:14.582000Z', 'edited': '2014-12-20T21:17:50.334000Z', 'url': 'https://swapi.co/api/people/14/'}]\n",
      "[{'name': 'Han Solo', 'height': '180', 'mass': '80', 'hair_color': 'brown', 'skin_color': 'fair', 'eye_color': 'brown', 'birth_year': '29BBY', 'gender': 'male', 'homeworld': 'https://swapi.co/api/planets/22/', 'films': ['https://swapi.co/api/films/2/', 'https://swapi.co/api/films/3/', 'https://swapi.co/api/films/1/', 'https://swapi.co/api/films/7/'], 'species': ['https://swapi.co/api/species/1/'], 'vehicles': [], 'starships': ['https://swapi.co/api/starships/10/', 'https://swapi.co/api/starships/22/'], 'created': '2014-12-10T16:49:14.582000Z', 'edited': '2014-12-20T21:17:50.334000Z', 'url': 'https://swapi.co/api/people/14/'}]\n",
      "[{'name': 'Han Solo', 'height': '180', 'mass': '80', 'hair_color': 'brown', 'skin_color': 'fair', 'eye_color': 'brown', 'birth_year': '29BBY', 'gender': 'male', 'homeworld': 'https://swapi.co/api/planets/22/', 'films': ['https://swapi.co/api/films/2/', 'https://swapi.co/api/films/3/', 'https://swapi.co/api/films/1/', 'https://swapi.co/api/films/7/'], 'species': ['https://swapi.co/api/species/1/'], 'vehicles': [], 'starships': ['https://swapi.co/api/starships/10/', 'https://swapi.co/api/starships/22/'], 'created': '2014-12-10T16:49:14.582000Z', 'edited': '2014-12-20T21:17:50.334000Z', 'url': 'https://swapi.co/api/people/14/'}]\n",
      "[{'name': 'Han Solo', 'height': '180', 'mass': '80', 'hair_color': 'brown', 'skin_color': 'fair', 'eye_color': 'brown', 'birth_year': '29BBY', 'gender': 'male', 'homeworld': 'https://swapi.co/api/planets/22/', 'films': ['https://swapi.co/api/films/2/', 'https://swapi.co/api/films/3/', 'https://swapi.co/api/films/1/', 'https://swapi.co/api/films/7/'], 'species': ['https://swapi.co/api/species/1/'], 'vehicles': [], 'starships': ['https://swapi.co/api/starships/10/', 'https://swapi.co/api/starships/22/'], 'created': '2014-12-10T16:49:14.582000Z', 'edited': '2014-12-20T21:17:50.334000Z', 'url': 'https://swapi.co/api/people/14/'}]\n"
     ]
    }
   ],
   "source": [
    "for han in solo:\n",
    "    print(solo['results'])"
   ]
  },
  {
   "cell_type": "code",
   "execution_count": 126,
   "metadata": {},
   "outputs": [
    {
     "name": "stdout",
     "output_type": "stream",
     "text": [
      "Han Solo\n"
     ]
    }
   ],
   "source": [
    "for han in solo['results']:\n",
    "    print (han['name'])"
   ]
  },
  {
   "cell_type": "code",
   "execution_count": 128,
   "metadata": {},
   "outputs": [
    {
     "name": "stdout",
     "output_type": "stream",
     "text": [
      "Han Solo has brown hair, is 180cm tall and 80kg.\n"
     ]
    }
   ],
   "source": [
    "\n",
    "print (f\"{han['name']} has {han['hair_color']} hair, is {han['height']}cm tall and {han['mass']}kg.\")"
   ]
  },
  {
   "cell_type": "markdown",
   "metadata": {},
   "source": [
    "## 5) Search for C-3PO"
   ]
  },
  {
   "cell_type": "code",
   "execution_count": 75,
   "metadata": {},
   "outputs": [],
   "source": [
    "response = requests.get('https://swapi.co/api/people/?search=C-3PO')\n",
    "c3po = response.json()"
   ]
  },
  {
   "cell_type": "code",
   "execution_count": null,
   "metadata": {},
   "outputs": [],
   "source": []
  },
  {
   "cell_type": "code",
   "execution_count": null,
   "metadata": {},
   "outputs": [],
   "source": []
  },
  {
   "cell_type": "markdown",
   "metadata": {},
   "source": [
    "## 6) What URL can tell me more about his species? Make a request to the corrent endpoint.\n",
    "\n",
    "Spoiler: he's a **droid**. Are robots a species? I guess so, maybe."
   ]
  },
  {
   "cell_type": "code",
   "execution_count": 76,
   "metadata": {},
   "outputs": [
    {
     "name": "stdout",
     "output_type": "stream",
     "text": [
      "[{'name': 'C-3PO', 'height': '167', 'mass': '75', 'hair_color': 'n/a', 'skin_color': 'gold', 'eye_color': 'yellow', 'birth_year': '112BBY', 'gender': 'n/a', 'homeworld': 'https://swapi.co/api/planets/1/', 'films': ['https://swapi.co/api/films/2/', 'https://swapi.co/api/films/5/', 'https://swapi.co/api/films/4/', 'https://swapi.co/api/films/6/', 'https://swapi.co/api/films/3/', 'https://swapi.co/api/films/1/'], 'species': ['https://swapi.co/api/species/2/'], 'vehicles': [], 'starships': [], 'created': '2014-12-10T15:10:51.357000Z', 'edited': '2014-12-20T21:17:50.309000Z', 'url': 'https://swapi.co/api/people/2/'}]\n"
     ]
    }
   ],
   "source": [
    "print(c3po['results'])"
   ]
  },
  {
   "cell_type": "code",
   "execution_count": 77,
   "metadata": {},
   "outputs": [
    {
     "name": "stdout",
     "output_type": "stream",
     "text": [
      "['https://swapi.co/api/species/2/']\n"
     ]
    }
   ],
   "source": [
    "for gold_robot in c3po['results']:\n",
    "    print(gold_robot['species'])"
   ]
  },
  {
   "cell_type": "code",
   "execution_count": null,
   "metadata": {},
   "outputs": [],
   "source": []
  },
  {
   "cell_type": "markdown",
   "metadata": {},
   "source": [
    "## 7) Print out the URL of every droid\n",
    "\n",
    "* *Tip: life will be easier if you don't say `for droid in...` or `for person in` because you aren't looping through droids or people. What are you looping through?*"
   ]
  },
  {
   "cell_type": "code",
   "execution_count": 78,
   "metadata": {},
   "outputs": [],
   "source": [
    "response = requests.get('https://swapi.co/api/species/2/')\n",
    "droid = response.json()\n",
    "\n"
   ]
  },
  {
   "cell_type": "code",
   "execution_count": 79,
   "metadata": {},
   "outputs": [
    {
     "name": "stdout",
     "output_type": "stream",
     "text": [
      "{'name': 'Droid', 'classification': 'artificial', 'designation': 'sentient', 'average_height': 'n/a', 'skin_colors': 'n/a', 'hair_colors': 'n/a', 'eye_colors': 'n/a', 'average_lifespan': 'indefinite', 'homeworld': None, 'language': 'n/a', 'people': ['https://swapi.co/api/people/2/', 'https://swapi.co/api/people/3/', 'https://swapi.co/api/people/8/', 'https://swapi.co/api/people/23/', 'https://swapi.co/api/people/87/'], 'films': ['https://swapi.co/api/films/2/', 'https://swapi.co/api/films/7/', 'https://swapi.co/api/films/5/', 'https://swapi.co/api/films/4/', 'https://swapi.co/api/films/6/', 'https://swapi.co/api/films/3/', 'https://swapi.co/api/films/1/'], 'created': '2014-12-10T15:16:16.259000Z', 'edited': '2015-04-17T06:59:43.869528Z', 'url': 'https://swapi.co/api/species/2/'}\n"
     ]
    }
   ],
   "source": [
    "print(droid)"
   ]
  },
  {
   "cell_type": "code",
   "execution_count": 80,
   "metadata": {},
   "outputs": [
    {
     "data": {
      "text/plain": [
       "['https://swapi.co/api/people/2/',\n",
       " 'https://swapi.co/api/people/3/',\n",
       " 'https://swapi.co/api/people/8/',\n",
       " 'https://swapi.co/api/people/23/',\n",
       " 'https://swapi.co/api/people/87/']"
      ]
     },
     "execution_count": 80,
     "metadata": {},
     "output_type": "execute_result"
    }
   ],
   "source": [
    "URL = droid['people']\n",
    "URL"
   ]
  },
  {
   "cell_type": "markdown",
   "metadata": {},
   "source": [
    "## 8) Print out the name of every droid\n",
    "\n",
    "* *Tip: You should start from the last answer, but add more stuff in!*\n",
    "* *Tip: You'll need to make a request every time you're in the loop*\n",
    "* *Tip: Be careful - f you re-use the variable name `data` you'll erase your old `data` variable*"
   ]
  },
  {
   "cell_type": "code",
   "execution_count": 81,
   "metadata": {
    "scrolled": true
   },
   "outputs": [
    {
     "name": "stdout",
     "output_type": "stream",
     "text": [
      "C-3PO\n",
      "R2-D2\n",
      "R5-D4\n",
      "IG-88\n",
      "BB8\n"
     ]
    }
   ],
   "source": [
    "for droids in URL:\n",
    "    response = requests.get(droids) \n",
    "    droid_name = response.json()\n",
    "    print(droid_name['name'])"
   ]
  },
  {
   "cell_type": "code",
   "execution_count": null,
   "metadata": {},
   "outputs": [],
   "source": []
  },
  {
   "cell_type": "code",
   "execution_count": null,
   "metadata": {},
   "outputs": [],
   "source": []
  },
  {
   "cell_type": "markdown",
   "metadata": {},
   "source": [
    "## 9) Print out more about the droid\n",
    "\n",
    "Count the number of films for each droid, printing `\"___ was in ___ films\"` for each of them\n",
    "\n",
    "* *Tip: You might want to look at a single droid result, or print the data in the for loop, so you know how to get the films. Or read the documentation!*"
   ]
  },
  {
   "cell_type": "code",
   "execution_count": 82,
   "metadata": {},
   "outputs": [
    {
     "name": "stdout",
     "output_type": "stream",
     "text": [
      "C-3PO was in 6 films\n",
      "R2-D2 was in 7 films\n",
      "R5-D4 was in 1 films\n",
      "IG-88 was in 1 films\n",
      "BB8 was in 1 films\n"
     ]
    }
   ],
   "source": [
    "for droids in URL:\n",
    "    response = requests.get(droids) \n",
    "    droid_name = response.json()\n",
    "    print(droid_name['name'], \"was in\", len(droid_name['films']), \"films\")\n"
   ]
  },
  {
   "cell_type": "code",
   "execution_count": null,
   "metadata": {},
   "outputs": [],
   "source": []
  },
  {
   "cell_type": "code",
   "execution_count": null,
   "metadata": {},
   "outputs": [],
   "source": []
  },
  {
   "cell_type": "markdown",
   "metadata": {},
   "source": [
    "## 10) Let's be smart and cache the results *[DIFFICULT, maybe!]*\n",
    "\n",
    "So far we've been using a for loop to go through each droid. Every droid, one more request. Every time we want more data, we run the loops again. I don't want that guy to get angry that we're asking for so much data!\n",
    "\n",
    "We want to our list of **droid urls** and turn it into a **list of dictionaries about those droids**. Save it as a variable called `droids`. If you get it correct, the following code should work if you cut and paste it.\n",
    "\n",
    "```python\n",
    "for droid in droids:\n",
    "    print(droid['name'])\n",
    "```\n",
    "\n",
    "* *Tip: Use a list comprehension*\n",
    "* *Tip: So far we've done `response = requests.get..` and `response.json()` on separate lines. You'll need to combine them!*"
   ]
  },
  {
   "cell_type": "code",
   "execution_count": 84,
   "metadata": {},
   "outputs": [
    {
     "ename": "InvalidSchema",
     "evalue": "No connection adapters were found for '['https://swapi.co/api/people/2/', 'https://swapi.co/api/people/3/', 'https://swapi.co/api/people/8/', 'https://swapi.co/api/people/23/', 'https://swapi.co/api/people/87/']'",
     "output_type": "error",
     "traceback": [
      "\u001b[0;31m---------------------------------------------------------------------------\u001b[0m",
      "\u001b[0;31mInvalidSchema\u001b[0m                             Traceback (most recent call last)",
      "\u001b[0;32m<ipython-input-84-b2e0ce1fcc76>\u001b[0m in \u001b[0;36m<module>\u001b[0;34m\u001b[0m\n\u001b[1;32m      1\u001b[0m \u001b[0mdroids2\u001b[0m \u001b[0;34m=\u001b[0m \u001b[0;34m[\u001b[0m\u001b[0;34m]\u001b[0m\u001b[0;34m\u001b[0m\u001b[0;34m\u001b[0m\u001b[0m\n\u001b[1;32m      2\u001b[0m \u001b[0;32mfor\u001b[0m \u001b[0mlist\u001b[0m \u001b[0;32min\u001b[0m \u001b[0mdroids\u001b[0m\u001b[0;34m:\u001b[0m\u001b[0;34m\u001b[0m\u001b[0;34m\u001b[0m\u001b[0m\n\u001b[0;32m----> 3\u001b[0;31m     \u001b[0mresponse\u001b[0m \u001b[0;34m=\u001b[0m \u001b[0mrequests\u001b[0m\u001b[0;34m.\u001b[0m\u001b[0mget\u001b[0m\u001b[0;34m(\u001b[0m\u001b[0mURL\u001b[0m\u001b[0;34m)\u001b[0m\u001b[0;34m\u001b[0m\u001b[0;34m\u001b[0m\u001b[0m\n\u001b[0m\u001b[1;32m      4\u001b[0m     \u001b[0mdroids_master_list\u001b[0m \u001b[0;34m=\u001b[0m \u001b[0mresponse\u001b[0m\u001b[0;34m.\u001b[0m\u001b[0mjson\u001b[0m\u001b[0;34m(\u001b[0m\u001b[0;34m)\u001b[0m\u001b[0;34m\u001b[0m\u001b[0;34m\u001b[0m\u001b[0m\n\u001b[1;32m      5\u001b[0m     \u001b[0mdroids2\u001b[0m\u001b[0;34m.\u001b[0m\u001b[0mappend\u001b[0m\u001b[0;34m(\u001b[0m\u001b[0mdroids_master_list\u001b[0m\u001b[0;34m)\u001b[0m\u001b[0;34m\u001b[0m\u001b[0;34m\u001b[0m\u001b[0m\n",
      "\u001b[0;32m~/.pyenv/versions/3.7.1/lib/python3.7/site-packages/requests/api.py\u001b[0m in \u001b[0;36mget\u001b[0;34m(url, params, **kwargs)\u001b[0m\n\u001b[1;32m     73\u001b[0m \u001b[0;34m\u001b[0m\u001b[0m\n\u001b[1;32m     74\u001b[0m     \u001b[0mkwargs\u001b[0m\u001b[0;34m.\u001b[0m\u001b[0msetdefault\u001b[0m\u001b[0;34m(\u001b[0m\u001b[0;34m'allow_redirects'\u001b[0m\u001b[0;34m,\u001b[0m \u001b[0;32mTrue\u001b[0m\u001b[0;34m)\u001b[0m\u001b[0;34m\u001b[0m\u001b[0;34m\u001b[0m\u001b[0m\n\u001b[0;32m---> 75\u001b[0;31m     \u001b[0;32mreturn\u001b[0m \u001b[0mrequest\u001b[0m\u001b[0;34m(\u001b[0m\u001b[0;34m'get'\u001b[0m\u001b[0;34m,\u001b[0m \u001b[0murl\u001b[0m\u001b[0;34m,\u001b[0m \u001b[0mparams\u001b[0m\u001b[0;34m=\u001b[0m\u001b[0mparams\u001b[0m\u001b[0;34m,\u001b[0m \u001b[0;34m**\u001b[0m\u001b[0mkwargs\u001b[0m\u001b[0;34m)\u001b[0m\u001b[0;34m\u001b[0m\u001b[0;34m\u001b[0m\u001b[0m\n\u001b[0m\u001b[1;32m     76\u001b[0m \u001b[0;34m\u001b[0m\u001b[0m\n\u001b[1;32m     77\u001b[0m \u001b[0;34m\u001b[0m\u001b[0m\n",
      "\u001b[0;32m~/.pyenv/versions/3.7.1/lib/python3.7/site-packages/requests/api.py\u001b[0m in \u001b[0;36mrequest\u001b[0;34m(method, url, **kwargs)\u001b[0m\n\u001b[1;32m     58\u001b[0m     \u001b[0;31m# cases, and look like a memory leak in others.\u001b[0m\u001b[0;34m\u001b[0m\u001b[0;34m\u001b[0m\u001b[0;34m\u001b[0m\u001b[0m\n\u001b[1;32m     59\u001b[0m     \u001b[0;32mwith\u001b[0m \u001b[0msessions\u001b[0m\u001b[0;34m.\u001b[0m\u001b[0mSession\u001b[0m\u001b[0;34m(\u001b[0m\u001b[0;34m)\u001b[0m \u001b[0;32mas\u001b[0m \u001b[0msession\u001b[0m\u001b[0;34m:\u001b[0m\u001b[0;34m\u001b[0m\u001b[0;34m\u001b[0m\u001b[0m\n\u001b[0;32m---> 60\u001b[0;31m         \u001b[0;32mreturn\u001b[0m \u001b[0msession\u001b[0m\u001b[0;34m.\u001b[0m\u001b[0mrequest\u001b[0m\u001b[0;34m(\u001b[0m\u001b[0mmethod\u001b[0m\u001b[0;34m=\u001b[0m\u001b[0mmethod\u001b[0m\u001b[0;34m,\u001b[0m \u001b[0murl\u001b[0m\u001b[0;34m=\u001b[0m\u001b[0murl\u001b[0m\u001b[0;34m,\u001b[0m \u001b[0;34m**\u001b[0m\u001b[0mkwargs\u001b[0m\u001b[0;34m)\u001b[0m\u001b[0;34m\u001b[0m\u001b[0;34m\u001b[0m\u001b[0m\n\u001b[0m\u001b[1;32m     61\u001b[0m \u001b[0;34m\u001b[0m\u001b[0m\n\u001b[1;32m     62\u001b[0m \u001b[0;34m\u001b[0m\u001b[0m\n",
      "\u001b[0;32m~/.pyenv/versions/3.7.1/lib/python3.7/site-packages/requests/sessions.py\u001b[0m in \u001b[0;36mrequest\u001b[0;34m(self, method, url, params, data, headers, cookies, files, auth, timeout, allow_redirects, proxies, hooks, stream, verify, cert, json)\u001b[0m\n\u001b[1;32m    531\u001b[0m         }\n\u001b[1;32m    532\u001b[0m         \u001b[0msend_kwargs\u001b[0m\u001b[0;34m.\u001b[0m\u001b[0mupdate\u001b[0m\u001b[0;34m(\u001b[0m\u001b[0msettings\u001b[0m\u001b[0;34m)\u001b[0m\u001b[0;34m\u001b[0m\u001b[0;34m\u001b[0m\u001b[0m\n\u001b[0;32m--> 533\u001b[0;31m         \u001b[0mresp\u001b[0m \u001b[0;34m=\u001b[0m \u001b[0mself\u001b[0m\u001b[0;34m.\u001b[0m\u001b[0msend\u001b[0m\u001b[0;34m(\u001b[0m\u001b[0mprep\u001b[0m\u001b[0;34m,\u001b[0m \u001b[0;34m**\u001b[0m\u001b[0msend_kwargs\u001b[0m\u001b[0;34m)\u001b[0m\u001b[0;34m\u001b[0m\u001b[0;34m\u001b[0m\u001b[0m\n\u001b[0m\u001b[1;32m    534\u001b[0m \u001b[0;34m\u001b[0m\u001b[0m\n\u001b[1;32m    535\u001b[0m         \u001b[0;32mreturn\u001b[0m \u001b[0mresp\u001b[0m\u001b[0;34m\u001b[0m\u001b[0;34m\u001b[0m\u001b[0m\n",
      "\u001b[0;32m~/.pyenv/versions/3.7.1/lib/python3.7/site-packages/requests/sessions.py\u001b[0m in \u001b[0;36msend\u001b[0;34m(self, request, **kwargs)\u001b[0m\n\u001b[1;32m    638\u001b[0m \u001b[0;34m\u001b[0m\u001b[0m\n\u001b[1;32m    639\u001b[0m         \u001b[0;31m# Get the appropriate adapter to use\u001b[0m\u001b[0;34m\u001b[0m\u001b[0;34m\u001b[0m\u001b[0;34m\u001b[0m\u001b[0m\n\u001b[0;32m--> 640\u001b[0;31m         \u001b[0madapter\u001b[0m \u001b[0;34m=\u001b[0m \u001b[0mself\u001b[0m\u001b[0;34m.\u001b[0m\u001b[0mget_adapter\u001b[0m\u001b[0;34m(\u001b[0m\u001b[0murl\u001b[0m\u001b[0;34m=\u001b[0m\u001b[0mrequest\u001b[0m\u001b[0;34m.\u001b[0m\u001b[0murl\u001b[0m\u001b[0;34m)\u001b[0m\u001b[0;34m\u001b[0m\u001b[0;34m\u001b[0m\u001b[0m\n\u001b[0m\u001b[1;32m    641\u001b[0m \u001b[0;34m\u001b[0m\u001b[0m\n\u001b[1;32m    642\u001b[0m         \u001b[0;31m# Start time (approximately) of the request\u001b[0m\u001b[0;34m\u001b[0m\u001b[0;34m\u001b[0m\u001b[0;34m\u001b[0m\u001b[0m\n",
      "\u001b[0;32m~/.pyenv/versions/3.7.1/lib/python3.7/site-packages/requests/sessions.py\u001b[0m in \u001b[0;36mget_adapter\u001b[0;34m(self, url)\u001b[0m\n\u001b[1;32m    729\u001b[0m \u001b[0;34m\u001b[0m\u001b[0m\n\u001b[1;32m    730\u001b[0m         \u001b[0;31m# Nothing matches :-/\u001b[0m\u001b[0;34m\u001b[0m\u001b[0;34m\u001b[0m\u001b[0;34m\u001b[0m\u001b[0m\n\u001b[0;32m--> 731\u001b[0;31m         \u001b[0;32mraise\u001b[0m \u001b[0mInvalidSchema\u001b[0m\u001b[0;34m(\u001b[0m\u001b[0;34m\"No connection adapters were found for '%s'\"\u001b[0m \u001b[0;34m%\u001b[0m \u001b[0murl\u001b[0m\u001b[0;34m)\u001b[0m\u001b[0;34m\u001b[0m\u001b[0;34m\u001b[0m\u001b[0m\n\u001b[0m\u001b[1;32m    732\u001b[0m \u001b[0;34m\u001b[0m\u001b[0m\n\u001b[1;32m    733\u001b[0m     \u001b[0;32mdef\u001b[0m \u001b[0mclose\u001b[0m\u001b[0;34m(\u001b[0m\u001b[0mself\u001b[0m\u001b[0;34m)\u001b[0m\u001b[0;34m:\u001b[0m\u001b[0;34m\u001b[0m\u001b[0;34m\u001b[0m\u001b[0m\n",
      "\u001b[0;31mInvalidSchema\u001b[0m: No connection adapters were found for '['https://swapi.co/api/people/2/', 'https://swapi.co/api/people/3/', 'https://swapi.co/api/people/8/', 'https://swapi.co/api/people/23/', 'https://swapi.co/api/people/87/']'"
     ]
    }
   ],
   "source": [
    "droids2 = []\n",
    "for list in droids:    \n",
    "    response = requests.get(URL) \n",
    "    droids_master_list = response.json()\n",
    "    droids2.append(droids_master_list)"
   ]
  },
  {
   "cell_type": "code",
   "execution_count": null,
   "metadata": {},
   "outputs": [],
   "source": []
  },
  {
   "cell_type": "code",
   "execution_count": null,
   "metadata": {},
   "outputs": [],
   "source": []
  },
  {
   "cell_type": "markdown",
   "metadata": {},
   "source": [
    "## 11) Get a list of every single planet in the Star Wars universe\n",
    "\n",
    "* *Tip: You'll want to use the API documentation for this, I think*"
   ]
  },
  {
   "cell_type": "code",
   "execution_count": 5,
   "metadata": {
    "scrolled": true
   },
   "outputs": [
    {
     "name": "stdout",
     "output_type": "stream",
     "text": [
      "{'count': 61, 'next': 'https://swapi.co/api/planets/?page=2', 'previous': None, 'results': [{'name': 'Alderaan', 'rotation_period': '24', 'orbital_period': '364', 'diameter': '12500', 'climate': 'temperate', 'gravity': '1 standard', 'terrain': 'grasslands, mountains', 'surface_water': '40', 'population': '2000000000', 'residents': ['https://swapi.co/api/people/5/', 'https://swapi.co/api/people/68/', 'https://swapi.co/api/people/81/'], 'films': ['https://swapi.co/api/films/6/', 'https://swapi.co/api/films/1/'], 'created': '2014-12-10T11:35:48.479000Z', 'edited': '2014-12-20T20:58:18.420000Z', 'url': 'https://swapi.co/api/planets/2/'}, {'name': 'Yavin IV', 'rotation_period': '24', 'orbital_period': '4818', 'diameter': '10200', 'climate': 'temperate, tropical', 'gravity': '1 standard', 'terrain': 'jungle, rainforests', 'surface_water': '8', 'population': '1000', 'residents': [], 'films': ['https://swapi.co/api/films/1/'], 'created': '2014-12-10T11:37:19.144000Z', 'edited': '2014-12-20T20:58:18.421000Z', 'url': 'https://swapi.co/api/planets/3/'}, {'name': 'Hoth', 'rotation_period': '23', 'orbital_period': '549', 'diameter': '7200', 'climate': 'frozen', 'gravity': '1.1 standard', 'terrain': 'tundra, ice caves, mountain ranges', 'surface_water': '100', 'population': 'unknown', 'residents': [], 'films': ['https://swapi.co/api/films/2/'], 'created': '2014-12-10T11:39:13.934000Z', 'edited': '2014-12-20T20:58:18.423000Z', 'url': 'https://swapi.co/api/planets/4/'}, {'name': 'Dagobah', 'rotation_period': '23', 'orbital_period': '341', 'diameter': '8900', 'climate': 'murky', 'gravity': 'N/A', 'terrain': 'swamp, jungles', 'surface_water': '8', 'population': 'unknown', 'residents': [], 'films': ['https://swapi.co/api/films/2/', 'https://swapi.co/api/films/6/', 'https://swapi.co/api/films/3/'], 'created': '2014-12-10T11:42:22.590000Z', 'edited': '2014-12-20T20:58:18.425000Z', 'url': 'https://swapi.co/api/planets/5/'}, {'name': 'Bespin', 'rotation_period': '12', 'orbital_period': '5110', 'diameter': '118000', 'climate': 'temperate', 'gravity': '1.5 (surface), 1 standard (Cloud City)', 'terrain': 'gas giant', 'surface_water': '0', 'population': '6000000', 'residents': ['https://swapi.co/api/people/26/'], 'films': ['https://swapi.co/api/films/2/'], 'created': '2014-12-10T11:43:55.240000Z', 'edited': '2014-12-20T20:58:18.427000Z', 'url': 'https://swapi.co/api/planets/6/'}, {'name': 'Endor', 'rotation_period': '18', 'orbital_period': '402', 'diameter': '4900', 'climate': 'temperate', 'gravity': '0.85 standard', 'terrain': 'forests, mountains, lakes', 'surface_water': '8', 'population': '30000000', 'residents': ['https://swapi.co/api/people/30/'], 'films': ['https://swapi.co/api/films/3/'], 'created': '2014-12-10T11:50:29.349000Z', 'edited': '2014-12-20T20:58:18.429000Z', 'url': 'https://swapi.co/api/planets/7/'}, {'name': 'Naboo', 'rotation_period': '26', 'orbital_period': '312', 'diameter': '12120', 'climate': 'temperate', 'gravity': '1 standard', 'terrain': 'grassy hills, swamps, forests, mountains', 'surface_water': '12', 'population': '4500000000', 'residents': ['https://swapi.co/api/people/3/', 'https://swapi.co/api/people/21/', 'https://swapi.co/api/people/36/', 'https://swapi.co/api/people/37/', 'https://swapi.co/api/people/38/', 'https://swapi.co/api/people/39/', 'https://swapi.co/api/people/42/', 'https://swapi.co/api/people/60/', 'https://swapi.co/api/people/61/', 'https://swapi.co/api/people/66/', 'https://swapi.co/api/people/35/'], 'films': ['https://swapi.co/api/films/5/', 'https://swapi.co/api/films/4/', 'https://swapi.co/api/films/6/', 'https://swapi.co/api/films/3/'], 'created': '2014-12-10T11:52:31.066000Z', 'edited': '2014-12-20T20:58:18.430000Z', 'url': 'https://swapi.co/api/planets/8/'}, {'name': 'Coruscant', 'rotation_period': '24', 'orbital_period': '368', 'diameter': '12240', 'climate': 'temperate', 'gravity': '1 standard', 'terrain': 'cityscape, mountains', 'surface_water': 'unknown', 'population': '1000000000000', 'residents': ['https://swapi.co/api/people/34/', 'https://swapi.co/api/people/55/', 'https://swapi.co/api/people/74/'], 'films': ['https://swapi.co/api/films/5/', 'https://swapi.co/api/films/4/', 'https://swapi.co/api/films/6/', 'https://swapi.co/api/films/3/'], 'created': '2014-12-10T11:54:13.921000Z', 'edited': '2014-12-20T20:58:18.432000Z', 'url': 'https://swapi.co/api/planets/9/'}, {'name': 'Kamino', 'rotation_period': '27', 'orbital_period': '463', 'diameter': '19720', 'climate': 'temperate', 'gravity': '1 standard', 'terrain': 'ocean', 'surface_water': '100', 'population': '1000000000', 'residents': ['https://swapi.co/api/people/22/', 'https://swapi.co/api/people/72/', 'https://swapi.co/api/people/73/'], 'films': ['https://swapi.co/api/films/5/'], 'created': '2014-12-10T12:45:06.577000Z', 'edited': '2014-12-20T20:58:18.434000Z', 'url': 'https://swapi.co/api/planets/10/'}, {'name': 'Geonosis', 'rotation_period': '30', 'orbital_period': '256', 'diameter': '11370', 'climate': 'temperate, arid', 'gravity': '0.9 standard', 'terrain': 'rock, desert, mountain, barren', 'surface_water': '5', 'population': '100000000000', 'residents': ['https://swapi.co/api/people/63/'], 'films': ['https://swapi.co/api/films/5/'], 'created': '2014-12-10T12:47:22.350000Z', 'edited': '2014-12-20T20:58:18.437000Z', 'url': 'https://swapi.co/api/planets/11/'}]}\n",
      "<class 'dict'>\n"
     ]
    }
   ],
   "source": [
    "response = requests.get(\"https://swapi.co/api/planets/\")\n",
    "planet = response.json()\n",
    "print(planet)\n",
    "print(type(planet))\n"
   ]
  },
  {
   "cell_type": "code",
   "execution_count": 6,
   "metadata": {
    "scrolled": false
   },
   "outputs": [
    {
     "data": {
      "text/plain": [
       "[{'name': 'Alderaan',\n",
       "  'rotation_period': '24',\n",
       "  'orbital_period': '364',\n",
       "  'diameter': '12500',\n",
       "  'climate': 'temperate',\n",
       "  'gravity': '1 standard',\n",
       "  'terrain': 'grasslands, mountains',\n",
       "  'surface_water': '40',\n",
       "  'population': '2000000000',\n",
       "  'residents': ['https://swapi.co/api/people/5/',\n",
       "   'https://swapi.co/api/people/68/',\n",
       "   'https://swapi.co/api/people/81/'],\n",
       "  'films': ['https://swapi.co/api/films/6/', 'https://swapi.co/api/films/1/'],\n",
       "  'created': '2014-12-10T11:35:48.479000Z',\n",
       "  'edited': '2014-12-20T20:58:18.420000Z',\n",
       "  'url': 'https://swapi.co/api/planets/2/'},\n",
       " {'name': 'Yavin IV',\n",
       "  'rotation_period': '24',\n",
       "  'orbital_period': '4818',\n",
       "  'diameter': '10200',\n",
       "  'climate': 'temperate, tropical',\n",
       "  'gravity': '1 standard',\n",
       "  'terrain': 'jungle, rainforests',\n",
       "  'surface_water': '8',\n",
       "  'population': '1000',\n",
       "  'residents': [],\n",
       "  'films': ['https://swapi.co/api/films/1/'],\n",
       "  'created': '2014-12-10T11:37:19.144000Z',\n",
       "  'edited': '2014-12-20T20:58:18.421000Z',\n",
       "  'url': 'https://swapi.co/api/planets/3/'},\n",
       " {'name': 'Hoth',\n",
       "  'rotation_period': '23',\n",
       "  'orbital_period': '549',\n",
       "  'diameter': '7200',\n",
       "  'climate': 'frozen',\n",
       "  'gravity': '1.1 standard',\n",
       "  'terrain': 'tundra, ice caves, mountain ranges',\n",
       "  'surface_water': '100',\n",
       "  'population': 'unknown',\n",
       "  'residents': [],\n",
       "  'films': ['https://swapi.co/api/films/2/'],\n",
       "  'created': '2014-12-10T11:39:13.934000Z',\n",
       "  'edited': '2014-12-20T20:58:18.423000Z',\n",
       "  'url': 'https://swapi.co/api/planets/4/'},\n",
       " {'name': 'Dagobah',\n",
       "  'rotation_period': '23',\n",
       "  'orbital_period': '341',\n",
       "  'diameter': '8900',\n",
       "  'climate': 'murky',\n",
       "  'gravity': 'N/A',\n",
       "  'terrain': 'swamp, jungles',\n",
       "  'surface_water': '8',\n",
       "  'population': 'unknown',\n",
       "  'residents': [],\n",
       "  'films': ['https://swapi.co/api/films/2/',\n",
       "   'https://swapi.co/api/films/6/',\n",
       "   'https://swapi.co/api/films/3/'],\n",
       "  'created': '2014-12-10T11:42:22.590000Z',\n",
       "  'edited': '2014-12-20T20:58:18.425000Z',\n",
       "  'url': 'https://swapi.co/api/planets/5/'},\n",
       " {'name': 'Bespin',\n",
       "  'rotation_period': '12',\n",
       "  'orbital_period': '5110',\n",
       "  'diameter': '118000',\n",
       "  'climate': 'temperate',\n",
       "  'gravity': '1.5 (surface), 1 standard (Cloud City)',\n",
       "  'terrain': 'gas giant',\n",
       "  'surface_water': '0',\n",
       "  'population': '6000000',\n",
       "  'residents': ['https://swapi.co/api/people/26/'],\n",
       "  'films': ['https://swapi.co/api/films/2/'],\n",
       "  'created': '2014-12-10T11:43:55.240000Z',\n",
       "  'edited': '2014-12-20T20:58:18.427000Z',\n",
       "  'url': 'https://swapi.co/api/planets/6/'},\n",
       " {'name': 'Endor',\n",
       "  'rotation_period': '18',\n",
       "  'orbital_period': '402',\n",
       "  'diameter': '4900',\n",
       "  'climate': 'temperate',\n",
       "  'gravity': '0.85 standard',\n",
       "  'terrain': 'forests, mountains, lakes',\n",
       "  'surface_water': '8',\n",
       "  'population': '30000000',\n",
       "  'residents': ['https://swapi.co/api/people/30/'],\n",
       "  'films': ['https://swapi.co/api/films/3/'],\n",
       "  'created': '2014-12-10T11:50:29.349000Z',\n",
       "  'edited': '2014-12-20T20:58:18.429000Z',\n",
       "  'url': 'https://swapi.co/api/planets/7/'},\n",
       " {'name': 'Naboo',\n",
       "  'rotation_period': '26',\n",
       "  'orbital_period': '312',\n",
       "  'diameter': '12120',\n",
       "  'climate': 'temperate',\n",
       "  'gravity': '1 standard',\n",
       "  'terrain': 'grassy hills, swamps, forests, mountains',\n",
       "  'surface_water': '12',\n",
       "  'population': '4500000000',\n",
       "  'residents': ['https://swapi.co/api/people/3/',\n",
       "   'https://swapi.co/api/people/21/',\n",
       "   'https://swapi.co/api/people/36/',\n",
       "   'https://swapi.co/api/people/37/',\n",
       "   'https://swapi.co/api/people/38/',\n",
       "   'https://swapi.co/api/people/39/',\n",
       "   'https://swapi.co/api/people/42/',\n",
       "   'https://swapi.co/api/people/60/',\n",
       "   'https://swapi.co/api/people/61/',\n",
       "   'https://swapi.co/api/people/66/',\n",
       "   'https://swapi.co/api/people/35/'],\n",
       "  'films': ['https://swapi.co/api/films/5/',\n",
       "   'https://swapi.co/api/films/4/',\n",
       "   'https://swapi.co/api/films/6/',\n",
       "   'https://swapi.co/api/films/3/'],\n",
       "  'created': '2014-12-10T11:52:31.066000Z',\n",
       "  'edited': '2014-12-20T20:58:18.430000Z',\n",
       "  'url': 'https://swapi.co/api/planets/8/'},\n",
       " {'name': 'Coruscant',\n",
       "  'rotation_period': '24',\n",
       "  'orbital_period': '368',\n",
       "  'diameter': '12240',\n",
       "  'climate': 'temperate',\n",
       "  'gravity': '1 standard',\n",
       "  'terrain': 'cityscape, mountains',\n",
       "  'surface_water': 'unknown',\n",
       "  'population': '1000000000000',\n",
       "  'residents': ['https://swapi.co/api/people/34/',\n",
       "   'https://swapi.co/api/people/55/',\n",
       "   'https://swapi.co/api/people/74/'],\n",
       "  'films': ['https://swapi.co/api/films/5/',\n",
       "   'https://swapi.co/api/films/4/',\n",
       "   'https://swapi.co/api/films/6/',\n",
       "   'https://swapi.co/api/films/3/'],\n",
       "  'created': '2014-12-10T11:54:13.921000Z',\n",
       "  'edited': '2014-12-20T20:58:18.432000Z',\n",
       "  'url': 'https://swapi.co/api/planets/9/'},\n",
       " {'name': 'Kamino',\n",
       "  'rotation_period': '27',\n",
       "  'orbital_period': '463',\n",
       "  'diameter': '19720',\n",
       "  'climate': 'temperate',\n",
       "  'gravity': '1 standard',\n",
       "  'terrain': 'ocean',\n",
       "  'surface_water': '100',\n",
       "  'population': '1000000000',\n",
       "  'residents': ['https://swapi.co/api/people/22/',\n",
       "   'https://swapi.co/api/people/72/',\n",
       "   'https://swapi.co/api/people/73/'],\n",
       "  'films': ['https://swapi.co/api/films/5/'],\n",
       "  'created': '2014-12-10T12:45:06.577000Z',\n",
       "  'edited': '2014-12-20T20:58:18.434000Z',\n",
       "  'url': 'https://swapi.co/api/planets/10/'},\n",
       " {'name': 'Geonosis',\n",
       "  'rotation_period': '30',\n",
       "  'orbital_period': '256',\n",
       "  'diameter': '11370',\n",
       "  'climate': 'temperate, arid',\n",
       "  'gravity': '0.9 standard',\n",
       "  'terrain': 'rock, desert, mountain, barren',\n",
       "  'surface_water': '5',\n",
       "  'population': '100000000000',\n",
       "  'residents': ['https://swapi.co/api/people/63/'],\n",
       "  'films': ['https://swapi.co/api/films/5/'],\n",
       "  'created': '2014-12-10T12:47:22.350000Z',\n",
       "  'edited': '2014-12-20T20:58:18.437000Z',\n",
       "  'url': 'https://swapi.co/api/planets/11/'}]"
      ]
     },
     "execution_count": 6,
     "metadata": {},
     "output_type": "execute_result"
    }
   ],
   "source": [
    "planets = planet['results']\n",
    "planets\n"
   ]
  },
  {
   "cell_type": "code",
   "execution_count": 17,
   "metadata": {
    "scrolled": false
   },
   "outputs": [
    {
     "name": "stdout",
     "output_type": "stream",
     "text": [
      "Alderaan\n",
      "Yavin IV\n",
      "Hoth\n",
      "Dagobah\n",
      "Bespin\n",
      "Endor\n",
      "Naboo\n",
      "Coruscant\n",
      "Kamino\n",
      "Geonosis\n"
     ]
    }
   ],
   "source": [
    "for planet_name in planets:\n",
    "    print(planet_name['name'])\n",
    "    "
   ]
  },
  {
   "cell_type": "markdown",
   "metadata": {},
   "source": [
    "\n",
    "## 12) How many plants are there? Show me two different ways of displaying the answer.\n",
    "\n",
    "* *Tip: They won't match*"
   ]
  },
  {
   "cell_type": "code",
   "execution_count": 88,
   "metadata": {},
   "outputs": [
    {
     "data": {
      "text/plain": [
       "8"
      ]
     },
     "execution_count": 88,
     "metadata": {},
     "output_type": "execute_result"
    }
   ],
   "source": [
    "len(planet_name['name'])"
   ]
  },
  {
   "cell_type": "code",
   "execution_count": 89,
   "metadata": {},
   "outputs": [
    {
     "data": {
      "text/plain": [
       "61"
      ]
     },
     "execution_count": 89,
     "metadata": {},
     "output_type": "execute_result"
    }
   ],
   "source": [
    "planet['count']"
   ]
  },
  {
   "cell_type": "code",
   "execution_count": null,
   "metadata": {},
   "outputs": [],
   "source": []
  },
  {
   "cell_type": "markdown",
   "metadata": {},
   "source": [
    "# These questions are all list comprehension questions, if you'd like\n",
    "\n",
    "## 13) Get the population of each of the planets\n",
    "\n",
    "* *Tip: Only use the 10 results for now*\n",
    "* *Tip: Use a list comprehension*"
   ]
  },
  {
   "cell_type": "code",
   "execution_count": 18,
   "metadata": {},
   "outputs": [
    {
     "name": "stdout",
     "output_type": "stream",
     "text": [
      "Alderaan 2000000000\n",
      "Yavin IV 1000\n",
      "Hoth unknown\n",
      "Dagobah unknown\n",
      "Bespin 6000000\n",
      "Endor 30000000\n",
      "Naboo 4500000000\n",
      "Coruscant 1000000000000\n",
      "Kamino 1000000000\n",
      "Geonosis 100000000000\n"
     ]
    }
   ],
   "source": [
    "for pop in planets: \n",
    "    print(pop['name'], pop['population'])"
   ]
  },
  {
   "cell_type": "code",
   "execution_count": null,
   "metadata": {},
   "outputs": [],
   "source": []
  },
  {
   "cell_type": "code",
   "execution_count": null,
   "metadata": {},
   "outputs": [],
   "source": []
  },
  {
   "cell_type": "markdown",
   "metadata": {},
   "source": [
    "## 14) Get the population of each of the planets, EXCEPT the ones that have a population of `'unknown'`\n",
    "\n",
    "* *Tip: Use a list comprehension with a filter (that's the `..if..` part at the end)*"
   ]
  },
  {
   "cell_type": "code",
   "execution_count": 26,
   "metadata": {},
   "outputs": [
    {
     "ename": "SyntaxError",
     "evalue": "invalid character in identifier (<ipython-input-26-eaa9378fdf99>, line 3)",
     "output_type": "error",
     "traceback": [
      "\u001b[0;36m  File \u001b[0;32m\"<ipython-input-26-eaa9378fdf99>\"\u001b[0;36m, line \u001b[0;32m3\u001b[0m\n\u001b[0;31m    list.append(pop['name'], pop['population']\u001b[0m\n\u001b[0m       ^\u001b[0m\n\u001b[0;31mSyntaxError\u001b[0m\u001b[0;31m:\u001b[0m invalid character in identifier\n"
     ]
    }
   ],
   "source": [
    "list = []\n",
    "for pop in planets: \n",
    "    list.append(pop['name'], pop['population']\n",
    "    list.remove('unknown')\n",
    "    Print(list)"
   ]
  },
  {
   "cell_type": "code",
   "execution_count": null,
   "metadata": {},
   "outputs": [],
   "source": []
  },
  {
   "cell_type": "code",
   "execution_count": null,
   "metadata": {},
   "outputs": [],
   "source": []
  },
  {
   "cell_type": "code",
   "execution_count": null,
   "metadata": {},
   "outputs": [],
   "source": []
  },
  {
   "cell_type": "markdown",
   "metadata": {},
   "source": [
    "## 14) Add up the populations\n",
    "\n",
    "* *Tip: They're strings right now, so it isn't going to work unless you change something about them*"
   ]
  },
  {
   "cell_type": "code",
   "execution_count": null,
   "metadata": {},
   "outputs": [],
   "source": []
  },
  {
   "cell_type": "code",
   "execution_count": null,
   "metadata": {},
   "outputs": [],
   "source": []
  },
  {
   "cell_type": "code",
   "execution_count": null,
   "metadata": {},
   "outputs": [],
   "source": []
  },
  {
   "cell_type": "markdown",
   "metadata": {},
   "source": [
    "## 15) Print what percentage of the total population each planet has\n",
    "\n",
    "I would like the sentences to be `\"The planet ____ has a population of _____, which is ___% of the total population\"`. If we don't know the planet's population, say `\"We don't know the population of _____\"`.\n",
    "\n",
    "* *Tip: This finally uses a for loop, but also the result of the last question*"
   ]
  },
  {
   "cell_type": "code",
   "execution_count": null,
   "metadata": {},
   "outputs": [],
   "source": []
  },
  {
   "cell_type": "code",
   "execution_count": null,
   "metadata": {},
   "outputs": [],
   "source": []
  },
  {
   "cell_type": "code",
   "execution_count": null,
   "metadata": {},
   "outputs": [],
   "source": []
  }
 ],
 "metadata": {
  "kernelspec": {
   "display_name": "Python 3",
   "language": "python",
   "name": "python3"
  },
  "language_info": {
   "codemirror_mode": {
    "name": "ipython",
    "version": 3
   },
   "file_extension": ".py",
   "mimetype": "text/x-python",
   "name": "python",
   "nbconvert_exporter": "python",
   "pygments_lexer": "ipython3",
   "version": "3.7.1"
  }
 },
 "nbformat": 4,
 "nbformat_minor": 2
}
